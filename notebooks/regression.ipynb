{
 "cells": [
  {
   "cell_type": "markdown",
   "id": "17b72918-325b-47b0-80a9-a36e825af96e",
   "metadata": {
    "jp-MarkdownHeadingCollapsed": true
   },
   "source": [
    "# Подготовка к работе:"
   ]
  },
  {
   "cell_type": "markdown",
   "id": "1951cbab-c4a3-437e-ad03-a5f74af322a6",
   "metadata": {},
   "source": [
    "**Загрузка библиотек**"
   ]
  },
  {
   "cell_type": "code",
   "execution_count": 1,
   "id": "0fd93e24-f2b4-4191-8e64-1e1623fd231f",
   "metadata": {},
   "outputs": [],
   "source": [
    "import numpy as np\n",
    "import pandas as pd\n",
    "\n",
    "import matplotlib.pyplot as plt\n",
    "import seaborn as sns\n",
    "\n",
    "import sklearn"
   ]
  },
  {
   "cell_type": "markdown",
   "id": "f3fb57bf-483e-4f92-8201-be7105bdad18",
   "metadata": {},
   "source": [
    "**Загрузка тренировочного набора:**"
   ]
  },
  {
   "cell_type": "code",
   "execution_count": 2,
   "id": "6b8a1acb-decb-4619-8aaf-be12dc83fce5",
   "metadata": {},
   "outputs": [
    {
     "data": {
      "text/html": [
       "<div>\n",
       "<style scoped>\n",
       "    .dataframe tbody tr th:only-of-type {\n",
       "        vertical-align: middle;\n",
       "    }\n",
       "\n",
       "    .dataframe tbody tr th {\n",
       "        vertical-align: top;\n",
       "    }\n",
       "\n",
       "    .dataframe thead th {\n",
       "        text-align: right;\n",
       "    }\n",
       "</style>\n",
       "<table border=\"1\" class=\"dataframe\">\n",
       "  <thead>\n",
       "    <tr style=\"text-align: right;\">\n",
       "      <th></th>\n",
       "      <th>Id</th>\n",
       "      <th>MSSubClass</th>\n",
       "      <th>MSZoning</th>\n",
       "      <th>LotFrontage</th>\n",
       "      <th>LotArea</th>\n",
       "      <th>Street</th>\n",
       "      <th>Alley</th>\n",
       "      <th>LotShape</th>\n",
       "      <th>LandContour</th>\n",
       "      <th>Utilities</th>\n",
       "      <th>...</th>\n",
       "      <th>PoolArea</th>\n",
       "      <th>PoolQC</th>\n",
       "      <th>Fence</th>\n",
       "      <th>MiscFeature</th>\n",
       "      <th>MiscVal</th>\n",
       "      <th>MoSold</th>\n",
       "      <th>YrSold</th>\n",
       "      <th>SaleType</th>\n",
       "      <th>SaleCondition</th>\n",
       "      <th>SalePrice</th>\n",
       "    </tr>\n",
       "  </thead>\n",
       "  <tbody>\n",
       "    <tr>\n",
       "      <th>0</th>\n",
       "      <td>1</td>\n",
       "      <td>60</td>\n",
       "      <td>RL</td>\n",
       "      <td>65.0</td>\n",
       "      <td>8450</td>\n",
       "      <td>Pave</td>\n",
       "      <td>NaN</td>\n",
       "      <td>Reg</td>\n",
       "      <td>Lvl</td>\n",
       "      <td>AllPub</td>\n",
       "      <td>...</td>\n",
       "      <td>0</td>\n",
       "      <td>NaN</td>\n",
       "      <td>NaN</td>\n",
       "      <td>NaN</td>\n",
       "      <td>0</td>\n",
       "      <td>2</td>\n",
       "      <td>2008</td>\n",
       "      <td>WD</td>\n",
       "      <td>Normal</td>\n",
       "      <td>208500</td>\n",
       "    </tr>\n",
       "    <tr>\n",
       "      <th>1</th>\n",
       "      <td>2</td>\n",
       "      <td>20</td>\n",
       "      <td>RL</td>\n",
       "      <td>80.0</td>\n",
       "      <td>9600</td>\n",
       "      <td>Pave</td>\n",
       "      <td>NaN</td>\n",
       "      <td>Reg</td>\n",
       "      <td>Lvl</td>\n",
       "      <td>AllPub</td>\n",
       "      <td>...</td>\n",
       "      <td>0</td>\n",
       "      <td>NaN</td>\n",
       "      <td>NaN</td>\n",
       "      <td>NaN</td>\n",
       "      <td>0</td>\n",
       "      <td>5</td>\n",
       "      <td>2007</td>\n",
       "      <td>WD</td>\n",
       "      <td>Normal</td>\n",
       "      <td>181500</td>\n",
       "    </tr>\n",
       "    <tr>\n",
       "      <th>2</th>\n",
       "      <td>3</td>\n",
       "      <td>60</td>\n",
       "      <td>RL</td>\n",
       "      <td>68.0</td>\n",
       "      <td>11250</td>\n",
       "      <td>Pave</td>\n",
       "      <td>NaN</td>\n",
       "      <td>IR1</td>\n",
       "      <td>Lvl</td>\n",
       "      <td>AllPub</td>\n",
       "      <td>...</td>\n",
       "      <td>0</td>\n",
       "      <td>NaN</td>\n",
       "      <td>NaN</td>\n",
       "      <td>NaN</td>\n",
       "      <td>0</td>\n",
       "      <td>9</td>\n",
       "      <td>2008</td>\n",
       "      <td>WD</td>\n",
       "      <td>Normal</td>\n",
       "      <td>223500</td>\n",
       "    </tr>\n",
       "    <tr>\n",
       "      <th>3</th>\n",
       "      <td>4</td>\n",
       "      <td>70</td>\n",
       "      <td>RL</td>\n",
       "      <td>60.0</td>\n",
       "      <td>9550</td>\n",
       "      <td>Pave</td>\n",
       "      <td>NaN</td>\n",
       "      <td>IR1</td>\n",
       "      <td>Lvl</td>\n",
       "      <td>AllPub</td>\n",
       "      <td>...</td>\n",
       "      <td>0</td>\n",
       "      <td>NaN</td>\n",
       "      <td>NaN</td>\n",
       "      <td>NaN</td>\n",
       "      <td>0</td>\n",
       "      <td>2</td>\n",
       "      <td>2006</td>\n",
       "      <td>WD</td>\n",
       "      <td>Abnorml</td>\n",
       "      <td>140000</td>\n",
       "    </tr>\n",
       "    <tr>\n",
       "      <th>4</th>\n",
       "      <td>5</td>\n",
       "      <td>60</td>\n",
       "      <td>RL</td>\n",
       "      <td>84.0</td>\n",
       "      <td>14260</td>\n",
       "      <td>Pave</td>\n",
       "      <td>NaN</td>\n",
       "      <td>IR1</td>\n",
       "      <td>Lvl</td>\n",
       "      <td>AllPub</td>\n",
       "      <td>...</td>\n",
       "      <td>0</td>\n",
       "      <td>NaN</td>\n",
       "      <td>NaN</td>\n",
       "      <td>NaN</td>\n",
       "      <td>0</td>\n",
       "      <td>12</td>\n",
       "      <td>2008</td>\n",
       "      <td>WD</td>\n",
       "      <td>Normal</td>\n",
       "      <td>250000</td>\n",
       "    </tr>\n",
       "    <tr>\n",
       "      <th>...</th>\n",
       "      <td>...</td>\n",
       "      <td>...</td>\n",
       "      <td>...</td>\n",
       "      <td>...</td>\n",
       "      <td>...</td>\n",
       "      <td>...</td>\n",
       "      <td>...</td>\n",
       "      <td>...</td>\n",
       "      <td>...</td>\n",
       "      <td>...</td>\n",
       "      <td>...</td>\n",
       "      <td>...</td>\n",
       "      <td>...</td>\n",
       "      <td>...</td>\n",
       "      <td>...</td>\n",
       "      <td>...</td>\n",
       "      <td>...</td>\n",
       "      <td>...</td>\n",
       "      <td>...</td>\n",
       "      <td>...</td>\n",
       "      <td>...</td>\n",
       "    </tr>\n",
       "    <tr>\n",
       "      <th>1455</th>\n",
       "      <td>1456</td>\n",
       "      <td>60</td>\n",
       "      <td>RL</td>\n",
       "      <td>62.0</td>\n",
       "      <td>7917</td>\n",
       "      <td>Pave</td>\n",
       "      <td>NaN</td>\n",
       "      <td>Reg</td>\n",
       "      <td>Lvl</td>\n",
       "      <td>AllPub</td>\n",
       "      <td>...</td>\n",
       "      <td>0</td>\n",
       "      <td>NaN</td>\n",
       "      <td>NaN</td>\n",
       "      <td>NaN</td>\n",
       "      <td>0</td>\n",
       "      <td>8</td>\n",
       "      <td>2007</td>\n",
       "      <td>WD</td>\n",
       "      <td>Normal</td>\n",
       "      <td>175000</td>\n",
       "    </tr>\n",
       "    <tr>\n",
       "      <th>1456</th>\n",
       "      <td>1457</td>\n",
       "      <td>20</td>\n",
       "      <td>RL</td>\n",
       "      <td>85.0</td>\n",
       "      <td>13175</td>\n",
       "      <td>Pave</td>\n",
       "      <td>NaN</td>\n",
       "      <td>Reg</td>\n",
       "      <td>Lvl</td>\n",
       "      <td>AllPub</td>\n",
       "      <td>...</td>\n",
       "      <td>0</td>\n",
       "      <td>NaN</td>\n",
       "      <td>MnPrv</td>\n",
       "      <td>NaN</td>\n",
       "      <td>0</td>\n",
       "      <td>2</td>\n",
       "      <td>2010</td>\n",
       "      <td>WD</td>\n",
       "      <td>Normal</td>\n",
       "      <td>210000</td>\n",
       "    </tr>\n",
       "    <tr>\n",
       "      <th>1457</th>\n",
       "      <td>1458</td>\n",
       "      <td>70</td>\n",
       "      <td>RL</td>\n",
       "      <td>66.0</td>\n",
       "      <td>9042</td>\n",
       "      <td>Pave</td>\n",
       "      <td>NaN</td>\n",
       "      <td>Reg</td>\n",
       "      <td>Lvl</td>\n",
       "      <td>AllPub</td>\n",
       "      <td>...</td>\n",
       "      <td>0</td>\n",
       "      <td>NaN</td>\n",
       "      <td>GdPrv</td>\n",
       "      <td>Shed</td>\n",
       "      <td>2500</td>\n",
       "      <td>5</td>\n",
       "      <td>2010</td>\n",
       "      <td>WD</td>\n",
       "      <td>Normal</td>\n",
       "      <td>266500</td>\n",
       "    </tr>\n",
       "    <tr>\n",
       "      <th>1458</th>\n",
       "      <td>1459</td>\n",
       "      <td>20</td>\n",
       "      <td>RL</td>\n",
       "      <td>68.0</td>\n",
       "      <td>9717</td>\n",
       "      <td>Pave</td>\n",
       "      <td>NaN</td>\n",
       "      <td>Reg</td>\n",
       "      <td>Lvl</td>\n",
       "      <td>AllPub</td>\n",
       "      <td>...</td>\n",
       "      <td>0</td>\n",
       "      <td>NaN</td>\n",
       "      <td>NaN</td>\n",
       "      <td>NaN</td>\n",
       "      <td>0</td>\n",
       "      <td>4</td>\n",
       "      <td>2010</td>\n",
       "      <td>WD</td>\n",
       "      <td>Normal</td>\n",
       "      <td>142125</td>\n",
       "    </tr>\n",
       "    <tr>\n",
       "      <th>1459</th>\n",
       "      <td>1460</td>\n",
       "      <td>20</td>\n",
       "      <td>RL</td>\n",
       "      <td>75.0</td>\n",
       "      <td>9937</td>\n",
       "      <td>Pave</td>\n",
       "      <td>NaN</td>\n",
       "      <td>Reg</td>\n",
       "      <td>Lvl</td>\n",
       "      <td>AllPub</td>\n",
       "      <td>...</td>\n",
       "      <td>0</td>\n",
       "      <td>NaN</td>\n",
       "      <td>NaN</td>\n",
       "      <td>NaN</td>\n",
       "      <td>0</td>\n",
       "      <td>6</td>\n",
       "      <td>2008</td>\n",
       "      <td>WD</td>\n",
       "      <td>Normal</td>\n",
       "      <td>147500</td>\n",
       "    </tr>\n",
       "  </tbody>\n",
       "</table>\n",
       "<p>1460 rows × 81 columns</p>\n",
       "</div>"
      ],
      "text/plain": [
       "        Id  MSSubClass MSZoning  LotFrontage  LotArea Street Alley LotShape  \\\n",
       "0        1          60       RL         65.0     8450   Pave   NaN      Reg   \n",
       "1        2          20       RL         80.0     9600   Pave   NaN      Reg   \n",
       "2        3          60       RL         68.0    11250   Pave   NaN      IR1   \n",
       "3        4          70       RL         60.0     9550   Pave   NaN      IR1   \n",
       "4        5          60       RL         84.0    14260   Pave   NaN      IR1   \n",
       "...    ...         ...      ...          ...      ...    ...   ...      ...   \n",
       "1455  1456          60       RL         62.0     7917   Pave   NaN      Reg   \n",
       "1456  1457          20       RL         85.0    13175   Pave   NaN      Reg   \n",
       "1457  1458          70       RL         66.0     9042   Pave   NaN      Reg   \n",
       "1458  1459          20       RL         68.0     9717   Pave   NaN      Reg   \n",
       "1459  1460          20       RL         75.0     9937   Pave   NaN      Reg   \n",
       "\n",
       "     LandContour Utilities  ... PoolArea PoolQC  Fence MiscFeature MiscVal  \\\n",
       "0            Lvl    AllPub  ...        0    NaN    NaN         NaN       0   \n",
       "1            Lvl    AllPub  ...        0    NaN    NaN         NaN       0   \n",
       "2            Lvl    AllPub  ...        0    NaN    NaN         NaN       0   \n",
       "3            Lvl    AllPub  ...        0    NaN    NaN         NaN       0   \n",
       "4            Lvl    AllPub  ...        0    NaN    NaN         NaN       0   \n",
       "...          ...       ...  ...      ...    ...    ...         ...     ...   \n",
       "1455         Lvl    AllPub  ...        0    NaN    NaN         NaN       0   \n",
       "1456         Lvl    AllPub  ...        0    NaN  MnPrv         NaN       0   \n",
       "1457         Lvl    AllPub  ...        0    NaN  GdPrv        Shed    2500   \n",
       "1458         Lvl    AllPub  ...        0    NaN    NaN         NaN       0   \n",
       "1459         Lvl    AllPub  ...        0    NaN    NaN         NaN       0   \n",
       "\n",
       "     MoSold YrSold  SaleType  SaleCondition  SalePrice  \n",
       "0         2   2008        WD         Normal     208500  \n",
       "1         5   2007        WD         Normal     181500  \n",
       "2         9   2008        WD         Normal     223500  \n",
       "3         2   2006        WD        Abnorml     140000  \n",
       "4        12   2008        WD         Normal     250000  \n",
       "...     ...    ...       ...            ...        ...  \n",
       "1455      8   2007        WD         Normal     175000  \n",
       "1456      2   2010        WD         Normal     210000  \n",
       "1457      5   2010        WD         Normal     266500  \n",
       "1458      4   2010        WD         Normal     142125  \n",
       "1459      6   2008        WD         Normal     147500  \n",
       "\n",
       "[1460 rows x 81 columns]"
      ]
     },
     "execution_count": 2,
     "metadata": {},
     "output_type": "execute_result"
    }
   ],
   "source": [
    "df = pd.read_csv('../datasets/train.csv')\n",
    "df"
   ]
  },
  {
   "cell_type": "markdown",
   "id": "6ab178f0-7141-493a-b1a0-8432b5eeb394",
   "metadata": {
    "jp-MarkdownHeadingCollapsed": true
   },
   "source": [
    "# Работа с данными"
   ]
  },
  {
   "cell_type": "markdown",
   "id": "03999d20-102d-4c7a-8533-94f901ed9cda",
   "metadata": {
    "jp-MarkdownHeadingCollapsed": true
   },
   "source": [
    "## Пропущенные значения:"
   ]
  },
  {
   "cell_type": "markdown",
   "id": "22aee582-836c-4338-a696-f728a63b0a93",
   "metadata": {},
   "source": [
    "*В результате разведовательного анализа мы выяснили, что у нас есть пропущенные значения в тренировочном датасете*"
   ]
  },
  {
   "cell_type": "markdown",
   "id": "85822931-5206-42f4-bd5b-31edae686251",
   "metadata": {},
   "source": [
    "**Выведем признаки с пропущенными значениями:**"
   ]
  },
  {
   "cell_type": "code",
   "execution_count": 3,
   "id": "40d878a9-6519-4e0f-af2a-c525c5271e1c",
   "metadata": {},
   "outputs": [
    {
     "data": {
      "text/plain": [
       "LotFrontage      259\n",
       "Alley           1369\n",
       "MasVnrType       872\n",
       "MasVnrArea         8\n",
       "BsmtQual          37\n",
       "BsmtCond          37\n",
       "BsmtExposure      38\n",
       "BsmtFinType1      37\n",
       "BsmtFinType2      38\n",
       "Electrical         1\n",
       "FireplaceQu      690\n",
       "GarageType        81\n",
       "GarageYrBlt       81\n",
       "GarageFinish      81\n",
       "GarageQual        81\n",
       "GarageCond        81\n",
       "PoolQC          1453\n",
       "Fence           1179\n",
       "MiscFeature     1406\n",
       "dtype: int64"
      ]
     },
     "execution_count": 3,
     "metadata": {},
     "output_type": "execute_result"
    }
   ],
   "source": [
    "df.isnull().sum()[df.isnull().sum() > 0]"
   ]
  },
  {
   "cell_type": "markdown",
   "id": "74edca65-c566-48d6-a087-e850b8136592",
   "metadata": {},
   "source": [
    "**Запишем признаки с пропущенными значениями в отдельный список:**"
   ]
  },
  {
   "cell_type": "code",
   "execution_count": 4,
   "id": "e39449c5-219b-4407-a0dd-ff3086805132",
   "metadata": {},
   "outputs": [],
   "source": [
    "missing_cols = df.isnull().sum()[df.isnull().sum() > 0].index"
   ]
  },
  {
   "cell_type": "markdown",
   "id": "f6144dbf-0b83-4d1e-bc4e-bdd74de60f21",
   "metadata": {},
   "source": [
    "**Удалим признаки, где более 50% значений пропущены.**\n",
    "<br>*Исходя из предположения о том, что влияние этих признаков на исход достатчно мало*"
   ]
  },
  {
   "cell_type": "code",
   "execution_count": 5,
   "id": "f8820490-ef74-454a-8758-929ca29f7272",
   "metadata": {},
   "outputs": [
    {
     "name": "stdout",
     "output_type": "stream",
     "text": [
      "Столбцы для удаления: ['Alley', 'MasVnrType', 'PoolQC', 'Fence', 'MiscFeature']\n"
     ]
    }
   ],
   "source": [
    "threshold = 0.5 * len(df)  # 50% от числа строк в DataFrame\n",
    "\n",
    "cols_to_drop = df.columns[df.isnull().sum() > threshold]\n",
    "print(f\"Столбцы для удаления: {list(cols_to_drop)}\")\n",
    "\n",
    "df.drop(columns=cols_to_drop, inplace=True, axis=1)"
   ]
  },
  {
   "cell_type": "markdown",
   "id": "bf3e44f3-90c0-41bd-a1fd-9d82d3ff2538",
   "metadata": {},
   "source": [
    "**Обновим список признаков с пропущенными значениями**"
   ]
  },
  {
   "cell_type": "code",
   "execution_count": 6,
   "id": "e3143e09-7b0d-40fe-a730-acaf72882496",
   "metadata": {},
   "outputs": [],
   "source": [
    "missing_cols = list(set(missing_cols) - set(cols_to_drop))"
   ]
  },
  {
   "cell_type": "markdown",
   "id": "66865fac-bc5a-4011-b027-dadd302b2667",
   "metadata": {},
   "source": [
    "**Разделим признаки на группы:**\n",
    "<br>*Пользуясь описанием датасета(data_description.txt)*"
   ]
  },
  {
   "cell_type": "code",
   "execution_count": 7,
   "id": "2b24d4a3-481b-4ddb-ae6f-dee358dbe852",
   "metadata": {},
   "outputs": [],
   "source": [
    "num_cols = ['LotFrontage', 'MasVnrArea']\n",
    "num_cat_cols = ['GarageYrBlt']\n",
    "\n",
    "bsmt_cat_cols = ['BsmtQual', 'BsmtCond', 'BsmtExposure', 'BsmtFinType1', 'BsmtFinType2']\n",
    "garage_cat_cols = ['GarageType', 'GarageFinish', 'GarageQual', 'GarageCond']\n",
    "mode_cat_cols = ['Electrical', 'FireplaceQu']"
   ]
  },
  {
   "cell_type": "markdown",
   "id": "47e595f7-f1c6-42b5-a432-6faefb80dc03",
   "metadata": {},
   "source": [
    "**Заполним оставшиеся пропущенные значения:**\n",
    "\n",
    "1) Числовые данные;\n",
    "2) Категориальные данные."
   ]
  },
  {
   "cell_type": "markdown",
   "id": "c77c9094-d8e6-4274-b70d-34c07cc3ec7b",
   "metadata": {},
   "source": [
    "Для определния способа заполнения пустых значений, проанализируем распределение и выбросы числовых признаков с пропущенными значениями"
   ]
  },
  {
   "cell_type": "markdown",
   "id": "aa0ed6b3-6e46-416e-a935-3cca8a89b905",
   "metadata": {},
   "source": [
    "**Построим квантиль-квантильные графики для анализа распределения:**"
   ]
  },
  {
   "cell_type": "code",
   "execution_count": 8,
   "id": "c4dcbfa5-0b25-413a-b5b6-662b80ed72af",
   "metadata": {
    "scrolled": true
   },
   "outputs": [
    {
     "data": {
      "image/png": "[encoded data removed]",
      "text/plain": [
       "<Figure size 640x480 with 1 Axes>"
      ]
     },
     "metadata": {},
     "output_type": "display_data"
    },
    {
     "data": {
      "image/png": "[encoded data removed]",
      "text/plain": [
       "<Figure size 640x480 with 1 Axes>"
      ]
     },
     "metadata": {},
     "output_type": "display_data"
    },
    {
     "data": {
      "image/png": "[encoded data removed]",
      "text/plain": [
       "<Figure size 640x480 with 1 Axes>"
      ]
     },
     "metadata": {},
     "output_type": "display_data"
    }
   ],
   "source": [
    "import scipy as sp\n",
    "# Q-Q plot\n",
    "for column in num_cols:\n",
    "    sp.stats.probplot(df[column], dist=\"norm\", plot=plt)\n",
    "    plt.title(f'Q-Q Plot для {column}')\n",
    "    plt.show()\n",
    "\n",
    "sp.stats.probplot(df['GarageYrBlt'], dist=\"norm\", plot=plt)\n",
    "plt.title('Q-Q Plot для GarageYrBlt')\n",
    "plt.show()"
   ]
  },
  {
   "cell_type": "markdown",
   "id": "a8205dfc-84b8-4a5c-a971-f36e8208d361",
   "metadata": {},
   "source": [
    "*Результат определяется приближённостью распределения точек в форме диагонали(чем ближе, тем \"нормальнее\" распределение)*\n",
    "\n",
    "* GarageYrBlt - имеет распределение близкое к нормальному\n",
    "* LotFrontage, MasVnrArea - нет"
   ]
  },
  {
   "cell_type": "markdown",
   "id": "ec6c0c92-4bdf-4e52-97a1-c949671f5601",
   "metadata": {},
   "source": [
    "**Теперь анализ выбросов:**\n"
   ]
  },
  {
   "cell_type": "code",
   "execution_count": 9,
   "id": "2e47d02e-cbbd-462c-b6ad-89d49861b95d",
   "metadata": {
    "scrolled": true
   },
   "outputs": [
    {
     "data": {
      "image/png": "[encoded data removed]",
      "text/plain": [
       "<Figure size 640x480 with 1 Axes>"
      ]
     },
     "metadata": {},
     "output_type": "display_data"
    },
    {
     "data": {
      "image/png": "[encoded data removed]",
      "text/plain": [
       "<Figure size 640x480 with 1 Axes>"
      ]
     },
     "metadata": {},
     "output_type": "display_data"
    },
    {
     "data": {
      "image/png": "[encoded data removed]",
      "text/plain": [
       "<Figure size 640x480 with 1 Axes>"
      ]
     },
     "metadata": {},
     "output_type": "display_data"
    }
   ],
   "source": [
    "for column in num_cols:\n",
    "    sns.boxplot(df[column])\n",
    "    plt.title(f'Boxplot для {column}')\n",
    "    plt.show()\n",
    "\n",
    "sns.boxplot(df['GarageYrBlt'])\n",
    "plt.title(f'Boxplot для GarageYrBlt')\n",
    "plt.show()"
   ]
  },
  {
   "cell_type": "markdown",
   "id": "f3238ff4-66c3-401a-afe9-aa703aeaabde",
   "metadata": {},
   "source": [
    "**Вообще исходя из описания набора и уникальных значений 'GarageYrBlt', можно сразу понять, что выбросов здесь нет, но может график лишним не будет.**"
   ]
  },
  {
   "cell_type": "code",
   "execution_count": 10,
   "id": "786dec70-859b-4f9d-b646-dac795a124ed",
   "metadata": {},
   "outputs": [
    {
     "data": {
      "text/plain": [
       "array([2003., 1976., 2001., 1998., 2000., 1993., 2004., 1973., 1931.,\n",
       "       1939., 1965., 2005., 1962., 2006., 1960., 1991., 1970., 1967.,\n",
       "       1958., 1930., 2002., 1968., 2007., 2008., 1957., 1920., 1966.,\n",
       "       1959., 1995., 1954., 1953.,   nan, 1983., 1977., 1997., 1985.,\n",
       "       1963., 1981., 1964., 1999., 1935., 1990., 1945., 1987., 1989.,\n",
       "       1915., 1956., 1948., 1974., 2009., 1950., 1961., 1921., 1900.,\n",
       "       1979., 1951., 1969., 1936., 1975., 1971., 1923., 1984., 1926.,\n",
       "       1955., 1986., 1988., 1916., 1932., 1972., 1918., 1980., 1924.,\n",
       "       1996., 1940., 1949., 1994., 1910., 1978., 1982., 1992., 1925.,\n",
       "       1941., 2010., 1927., 1947., 1937., 1942., 1938., 1952., 1928.,\n",
       "       1922., 1934., 1906., 1914., 1946., 1908., 1929., 1933.])"
      ]
     },
     "execution_count": 10,
     "metadata": {},
     "output_type": "execute_result"
    }
   ],
   "source": [
    "df['GarageYrBlt'].unique()"
   ]
  },
  {
   "cell_type": "markdown",
   "id": "8f359168-88d7-42bc-a42a-ce68ffb96302",
   "metadata": {},
   "source": [
    "**Анализ выбросов также можно выразить численно, с помощью \"межквартильного размаха(IQR)\"**\n",
    "<br>*Тут уже не будем использовать GarageYrBlt*"
   ]
  },
  {
   "cell_type": "code",
   "execution_count": 11,
   "id": "69de58b5-2564-4754-91a5-3e52de2a1f23",
   "metadata": {
    "scrolled": true
   },
   "outputs": [
    {
     "name": "stdout",
     "output_type": "stream",
     "text": [
      "---------------------------------------------------------------------------\n",
      "\n",
      "Столбец: LotFrontage\n",
      "Выбросы: \n",
      "36      112.0\n",
      "41      115.0\n",
      "56       24.0\n",
      "75       21.0\n",
      "85      121.0\n",
      "        ...  \n",
      "1339    120.0\n",
      "1359    129.0\n",
      "1361    124.0\n",
      "1378     21.0\n",
      "1449     21.0\n",
      "Name: LotFrontage, Length: 88, dtype: float64\n",
      "Доля выбросов: 7.33%\n",
      "---------------------------------------------------------------------------\n",
      "---------------------------------------------------------------------------\n",
      "\n",
      "Столбец: MasVnrArea\n",
      "Выбросы: \n",
      "25       640.0\n",
      "37       650.0\n",
      "56       456.0\n",
      "58      1031.0\n",
      "64       573.0\n",
      "         ...  \n",
      "1417     731.0\n",
      "1420     420.0\n",
      "1426     448.0\n",
      "1437     426.0\n",
      "1447     438.0\n",
      "Name: MasVnrArea, Length: 96, dtype: float64\n",
      "Доля выбросов: 6.61%\n",
      "---------------------------------------------------------------------------\n",
      "\n",
      "Столбцы с выбросами (доля выбросов > 5%):\n",
      "['LotFrontage', 'MasVnrArea']\n",
      "\n",
      "Нормально распределённые столбцы (доля выбросов < 5%):\n",
      "[]\n"
     ]
    }
   ],
   "source": [
    "# Списки для признаков с выбросами и без\n",
    "num_cols_outliers = []\n",
    "num_cols_no_outliers = []\n",
    "\n",
    "for column in num_cols:\n",
    "    data = df[column].dropna()\n",
    "\n",
    "    # Вычисление квартилей и IQR\n",
    "    Q1 = data.quantile(0.25)\n",
    "    Q3 = data.quantile(0.75)\n",
    "    IQR = Q3 - Q1\n",
    "\n",
    "    # Границы для определения выбросов\n",
    "    lower_bound = Q1 - 1.5 * IQR\n",
    "    upper_bound = Q3 + 1.5 * IQR\n",
    "\n",
    "    # Фильтрация выбросов\n",
    "    outliers = data[(data < lower_bound) | (data > upper_bound)]\n",
    "    \n",
    "    # Доля выбросов\n",
    "    outliers_pct = len(outliers) / len(data) * 100  \n",
    "\n",
    "    # Детальный вывод по каждому признаку\n",
    "    print(f'{\"-\"*75}')\n",
    "    print(f'\\nСтолбец: {column}')\n",
    "    print(f'Выбросы: \\n{outliers}')\n",
    "    print(f'Доля выбросов: {outliers_pct:.2f}%')\n",
    "    print(f'{\"-\"*75}')\n",
    "\n",
    "    # Если доля выбросов > 5%, добавляем столбец в список\n",
    "    if outliers_pct > 5:\n",
    "        num_cols_outliers.append(column)\n",
    "    else:\n",
    "        num_cols_no_outliers.append(column)\n",
    "\n",
    "# Вывод получившихся списков\n",
    "print(f'\\nСтолбцы с выбросами (доля выбросов > 5%):\\n{num_cols_outliers}')\n",
    "print(f'\\nНормально распределённые столбцы (доля выбросов < 5%):\\n{num_cols_no_outliers}')"
   ]
  },
  {
   "cell_type": "markdown",
   "id": "39b69b52-38b3-4041-89e6-f8b4e0ceb7f8",
   "metadata": {},
   "source": [
    "**Заполнение пропущенных значений:**\n",
    "\n",
    "В зависимости от категории, в которую мы определили признаки, заполним их:\n",
    "* Числовые - медиана(сод. выбросы), среднее значение(не содержит), мода, пользовательское значение;\n",
    "* Категориальные - мода, 'None', пользовательское."
   ]
  },
  {
   "cell_type": "code",
   "execution_count": 12,
   "id": "36541238-e5f3-472f-9d38-4c62e6a5ad04",
   "metadata": {},
   "outputs": [],
   "source": [
    "for column in df.columns:\n",
    "    if column in num_cols_outliers:\n",
    "        df[column] = df[column].fillna(df[column].median())  # Заполняем медианой для столбцов с выбросами\n",
    "    elif column in num_cat_cols:\n",
    "        df[column] = df[column].fillna(df[column].mode()[0]) # также можно заполнить случайными значениями из этого же столбца\n",
    "        #np.random.choice(df[column].dropna().unique())\n",
    "    elif column in mode_cat_cols:\n",
    "        df[column] = df[column].fillna(df[column].mode()[0])\n",
    "    elif column in bsmt_cat_cols:\n",
    "        df[column] = df[column].fillna('NoBsmt') # пользовательское значение основанное на описании датасета\n",
    "    elif column in garage_cat_cols:\n",
    "        df[column] = df[column].fillna('NoGrg')"
   ]
  },
  {
   "cell_type": "markdown",
   "id": "d597bebf-a676-4f69-a224-30e23f7e7a29",
   "metadata": {},
   "source": [
    "**Ещё раз проверим на наличие пропущенных значений, чтобы убедиться, что мы ничего не пропустили:**"
   ]
  },
  {
   "cell_type": "code",
   "execution_count": 13,
   "id": "05ed9653-14f7-4171-9661-0d56a4960ccd",
   "metadata": {},
   "outputs": [
    {
     "data": {
      "text/plain": [
       "Series([], dtype: int64)"
      ]
     },
     "execution_count": 13,
     "metadata": {},
     "output_type": "execute_result"
    }
   ],
   "source": [
    "df.isnull().sum()[df.isnull().sum() > 0]"
   ]
  },
  {
   "cell_type": "code",
   "execution_count": 14,
   "id": "9fb606af-4736-40d5-b146-61268f3c0778",
   "metadata": {
    "scrolled": true
   },
   "outputs": [
    {
     "name": "stdout",
     "output_type": "stream",
     "text": [
      "<class 'pandas.core.frame.DataFrame'>\n",
      "RangeIndex: 1460 entries, 0 to 1459\n",
      "Data columns (total 76 columns):\n",
      " #   Column         Non-Null Count  Dtype  \n",
      "---  ------         --------------  -----  \n",
      " 0   Id             1460 non-null   int64  \n",
      " 1   MSSubClass     1460 non-null   int64  \n",
      " 2   MSZoning       1460 non-null   object \n",
      " 3   LotFrontage    1460 non-null   float64\n",
      " 4   LotArea        1460 non-null   int64  \n",
      " 5   Street         1460 non-null   object \n",
      " 6   LotShape       1460 non-null   object \n",
      " 7   LandContour    1460 non-null   object \n",
      " 8   Utilities      1460 non-null   object \n",
      " 9   LotConfig      1460 non-null   object \n",
      " 10  LandSlope      1460 non-null   object \n",
      " 11  Neighborhood   1460 non-null   object \n",
      " 12  Condition1     1460 non-null   object \n",
      " 13  Condition2     1460 non-null   object \n",
      " 14  BldgType       1460 non-null   object \n",
      " 15  HouseStyle     1460 non-null   object \n",
      " 16  OverallQual    1460 non-null   int64  \n",
      " 17  OverallCond    1460 non-null   int64  \n",
      " 18  YearBuilt      1460 non-null   int64  \n",
      " 19  YearRemodAdd   1460 non-null   int64  \n",
      " 20  RoofStyle      1460 non-null   object \n",
      " 21  RoofMatl       1460 non-null   object \n",
      " 22  Exterior1st    1460 non-null   object \n",
      " 23  Exterior2nd    1460 non-null   object \n",
      " 24  MasVnrArea     1460 non-null   float64\n",
      " 25  ExterQual      1460 non-null   object \n",
      " 26  ExterCond      1460 non-null   object \n",
      " 27  Foundation     1460 non-null   object \n",
      " 28  BsmtQual       1460 non-null   object \n",
      " 29  BsmtCond       1460 non-null   object \n",
      " 30  BsmtExposure   1460 non-null   object \n",
      " 31  BsmtFinType1   1460 non-null   object \n",
      " 32  BsmtFinSF1     1460 non-null   int64  \n",
      " 33  BsmtFinType2   1460 non-null   object \n",
      " 34  BsmtFinSF2     1460 non-null   int64  \n",
      " 35  BsmtUnfSF      1460 non-null   int64  \n",
      " 36  TotalBsmtSF    1460 non-null   int64  \n",
      " 37  Heating        1460 non-null   object \n",
      " 38  HeatingQC      1460 non-null   object \n",
      " 39  CentralAir     1460 non-null   object \n",
      " 40  Electrical     1460 non-null   object \n",
      " 41  1stFlrSF       1460 non-null   int64  \n",
      " 42  2ndFlrSF       1460 non-null   int64  \n",
      " 43  LowQualFinSF   1460 non-null   int64  \n",
      " 44  GrLivArea      1460 non-null   int64  \n",
      " 45  BsmtFullBath   1460 non-null   int64  \n",
      " 46  BsmtHalfBath   1460 non-null   int64  \n",
      " 47  FullBath       1460 non-null   int64  \n",
      " 48  HalfBath       1460 non-null   int64  \n",
      " 49  BedroomAbvGr   1460 non-null   int64  \n",
      " 50  KitchenAbvGr   1460 non-null   int64  \n",
      " 51  KitchenQual    1460 non-null   object \n",
      " 52  TotRmsAbvGrd   1460 non-null   int64  \n",
      " 53  Functional     1460 non-null   object \n",
      " 54  Fireplaces     1460 non-null   int64  \n",
      " 55  FireplaceQu    1460 non-null   object \n",
      " 56  GarageType     1460 non-null   object \n",
      " 57  GarageYrBlt    1460 non-null   float64\n",
      " 58  GarageFinish   1460 non-null   object \n",
      " 59  GarageCars     1460 non-null   int64  \n",
      " 60  GarageArea     1460 non-null   int64  \n",
      " 61  GarageQual     1460 non-null   object \n",
      " 62  GarageCond     1460 non-null   object \n",
      " 63  PavedDrive     1460 non-null   object \n",
      " 64  WoodDeckSF     1460 non-null   int64  \n",
      " 65  OpenPorchSF    1460 non-null   int64  \n",
      " 66  EnclosedPorch  1460 non-null   int64  \n",
      " 67  3SsnPorch      1460 non-null   int64  \n",
      " 68  ScreenPorch    1460 non-null   int64  \n",
      " 69  PoolArea       1460 non-null   int64  \n",
      " 70  MiscVal        1460 non-null   int64  \n",
      " 71  MoSold         1460 non-null   int64  \n",
      " 72  YrSold         1460 non-null   int64  \n",
      " 73  SaleType       1460 non-null   object \n",
      " 74  SaleCondition  1460 non-null   object \n",
      " 75  SalePrice      1460 non-null   int64  \n",
      "dtypes: float64(3), int64(35), object(38)\n",
      "memory usage: 867.0+ KB\n"
     ]
    }
   ],
   "source": [
    "df.info()"
   ]
  },
  {
   "cell_type": "markdown",
   "id": "8eabe3ce-9c04-4ffb-9847-e2b6a192d022",
   "metadata": {
    "jp-MarkdownHeadingCollapsed": true
   },
   "source": [
    "## Категориальные данные:"
   ]
  },
  {
   "cell_type": "markdown",
   "id": "bb002f94-ea76-4809-a9b4-9acbaa4568ae",
   "metadata": {},
   "source": [
    "**Определение списков признаков:**\n",
    "<br>*Для последующего явного преобразования признаков в датафрейме*\n",
    "* Числовые;\n",
    "* Категориальные;\n",
    "* Двоичные(булевы)."
   ]
  },
  {
   "cell_type": "code",
   "execution_count": 15,
   "id": "165127af-b558-44d6-b0ad-50adc490d3dc",
   "metadata": {
    "scrolled": true
   },
   "outputs": [
    {
     "name": "stdout",
     "output_type": "stream",
     "text": [
      "Числовые признаки: \n",
      "['MSSubClass', 'LotFrontage', 'LotArea', 'OverallQual', 'OverallCond', 'YearBuilt', 'YearRemodAdd', 'MasVnrArea', 'BsmtFinSF1', 'BsmtFinSF2', 'BsmtUnfSF', 'TotalBsmtSF', '1stFlrSF', '2ndFlrSF', 'LowQualFinSF', 'GrLivArea', 'BsmtFullBath', 'BsmtHalfBath', 'FullBath', 'HalfBath', 'BedroomAbvGr', 'KitchenAbvGr', 'TotRmsAbvGrd', 'Fireplaces', 'GarageYrBlt', 'GarageCars', 'GarageArea', 'WoodDeckSF', 'OpenPorchSF', 'EnclosedPorch', '3SsnPorch', 'ScreenPorch', 'PoolArea', 'MiscVal', 'MoSold', 'YrSold', 'SalePrice']\n",
      "Количество признаков: 37\n",
      "\n",
      "Категориальные признаки: \n",
      "['MSZoning', 'Street', 'LotShape', 'LandContour', 'Utilities', 'LotConfig', 'LandSlope', 'Neighborhood', 'Condition1', 'Condition2', 'BldgType', 'HouseStyle', 'RoofStyle', 'RoofMatl', 'Exterior1st', 'Exterior2nd', 'ExterQual', 'ExterCond', 'Foundation', 'BsmtQual', 'BsmtCond', 'BsmtExposure', 'BsmtFinType1', 'BsmtFinType2', 'Heating', 'HeatingQC', 'Electrical', 'KitchenQual', 'Functional', 'FireplaceQu', 'GarageType', 'GarageFinish', 'GarageQual', 'GarageCond', 'PavedDrive', 'SaleType', 'SaleCondition']\n",
      "Количество признаков: 37\n",
      "\n",
      "Двоичные признаки: \n",
      "['CentralAir']\n",
      "Количество признаков: 1\n",
      "\n",
      "Удалённые признаки: \n",
      "Index(['Alley', 'MasVnrType', 'PoolQC', 'Fence', 'MiscFeature'], dtype='object')\n",
      "Количество признаков: 5\n"
     ]
    }
   ],
   "source": [
    "num_cols = df.select_dtypes(exclude=['object']).columns.tolist()\n",
    "num_cols.remove('Id')\n",
    "bool_cols = ['CentralAir']\n",
    "cat_cols = df.select_dtypes(include=['object']).columns.tolist()\n",
    "cat_cols = [col for col in cat_cols if col not in bool_cols] # remove\n",
    "\n",
    "print(f'Числовые признаки: \\n{num_cols}\\nКоличество признаков: {len(num_cols)}')\n",
    "print(f'\\nКатегориальные признаки: \\n{cat_cols}\\nКоличество признаков: {len(cat_cols)}')\n",
    "print(f'\\nДвоичные признаки: \\n{bool_cols}\\nКоличество признаков: {len(bool_cols)}')\n",
    "print(f'\\nУдалённые признаки: \\n{cols_to_drop}\\nКоличество признаков: {len(cols_to_drop)}')"
   ]
  },
  {
   "cell_type": "markdown",
   "id": "891352e2-d0fc-4050-ab4d-2b3e6d5b4557",
   "metadata": {},
   "source": [
    "**Применение типов данных к фрейму:**\n",
    "<br>*Числовые изначально определены*"
   ]
  },
  {
   "cell_type": "code",
   "execution_count": 16,
   "id": "32b679a4-29ad-4e2d-a2f7-70a1c990f6ba",
   "metadata": {},
   "outputs": [],
   "source": [
    "df[cat_cols] = df[cat_cols].astype('category')\n",
    "df['CentralAir'] = [1 if ca=='Y' else 0 for ca in df['CentralAir']]"
   ]
  },
  {
   "cell_type": "markdown",
   "id": "037c7458-2258-46c6-92e2-5d91ba39d54e",
   "metadata": {},
   "source": [
    "Для работы моделей, решения задач DS и ML, необходимо преобразовать категориальные данные(символьные) в числовые категориальные данные.\n",
    "\n",
    "Для этого нужно закодировать имеющиеся категории в числа методами:\n",
    "* **Label Encoding** - для категорий, которые имеют градацию, ранжирование(Best->Worst, C2->A1);\n",
    "* **One-Hot Encoding** - для категорий, которые не имеют чёткой связи между собой(различные перечисления, типы, классификации и т.п.).\n",
    "\n",
    "*Существуют и другие методы, но здесь я решил применить эти.*\n",
    "<br>*Опорное кодирование не было выбрано в следствии предположения о сложности интерпретации признаков(хотя могло бы значительно сократить набор)*"
   ]
  },
  {
   "cell_type": "markdown",
   "id": "959938b6-f4cb-40a5-a42c-503be1fc05d9",
   "metadata": {},
   "source": [
    "**Пользуясь описанием набора данных, разделим признаки для разных категорий**"
   ]
  },
  {
   "cell_type": "code",
   "execution_count": 17,
   "id": "49ba9cc2-7aba-4496-9512-c66f2ba14648",
   "metadata": {},
   "outputs": [],
   "source": [
    "rank_cats = ['ExterQual', 'ExterCond', 'BsmtQual', 'BsmtCond', 'BsmtExposure', 'BsmtFinType1', 'BsmtFinType2', 'HeatingQC', 'KitchenQual', 'FireplaceQu',\n",
    "             'GarageQual', 'GarageCond']\n",
    "\n",
    "default_cats = ['MSZoning', 'Street', 'LotShape', 'LandContour', 'Utilities', 'LotConfig', 'LandSlope', 'Neighborhood', 'Condition1', 'Condition2',\n",
    "                'BldgType', 'HouseStyle', 'RoofStyle', 'RoofMatl', 'Exterior1st', 'Exterior2nd', 'Foundation', 'Heating', 'Electrical', 'Functional',\n",
    "                'GarageType', 'GarageFinish', 'PavedDrive', 'SaleType', 'SaleCondition']"
   ]
  },
  {
   "cell_type": "markdown",
   "id": "c69f90a6-61ed-400f-93d6-f823026faefc",
   "metadata": {},
   "source": [
    "**Разделим данные обучения на тренировочную и контрольную группы:**\n",
    "<br>*Можно было сделать это после преобразования, но забегая наперёд, конечный набор данных, для которого мы будем предсказывать значения, не содержит \"исхода\" в признаках, что вызовет проблемы при приведении категориальных данных конечного набора в соответствие к обучающему.*"
   ]
  },
  {
   "cell_type": "code",
   "execution_count": 18,
   "id": "491bc854-dc85-4e8d-96a1-0fd604a72b76",
   "metadata": {},
   "outputs": [],
   "source": [
    "from sklearn.model_selection import train_test_split\n",
    "\n",
    "X = df.drop(columns=['SalePrice'])\n",
    "y = df['SalePrice']\n",
    "X_train, X_test, y_train, y_test = train_test_split(X, y, test_size=0.3, random_state=81)"
   ]
  },
  {
   "cell_type": "code",
   "execution_count": 19,
   "id": "70af66c6-d855-4ded-979d-cad4fd5d2386",
   "metadata": {},
   "outputs": [],
   "source": [
    "from sklearn.preprocessing import LabelEncoder\n",
    "# Создаем словарь для хранения LabelEncoder для применения этих же настроек в последующих наборах данных\n",
    "label_encoders = {}\n",
    "\n",
    "# Обучаем и трансформируем ранжирующиеся категориальные признаки\n",
    "for col in rank_cats:\n",
    "    le = LabelEncoder()\n",
    "    X_train[col] = le.fit_transform(X_train[col])\n",
    "    X_test[col] = le.transform(X_test[col])  # Трансформируем тестовые данные с тем же LabelEncoder\n",
    "    label_encoders[col] = le  # Сохраняем LabelEncoder\n",
    "    \n",
    "# Преобразуем остальные категориальные признаки\n",
    "X_train = pd.get_dummies(X_train, columns=default_cats, dtype=int)\n",
    "X_test = pd.get_dummies(X_test, columns=default_cats, dtype=int)"
   ]
  },
  {
   "cell_type": "markdown",
   "id": "71c5a730-a878-4d2e-ae70-d9b15633e336",
   "metadata": {
    "jp-MarkdownHeadingCollapsed": true
   },
   "source": [
    "# Работа с моделями:"
   ]
  },
  {
   "cell_type": "markdown",
   "id": "da8ee3f2-19af-4b81-8782-24d45b27363e",
   "metadata": {
    "jp-MarkdownHeadingCollapsed": true
   },
   "source": [
    "## Моделирование регресии(до нормализации/стандартизации):"
   ]
  },
  {
   "cell_type": "markdown",
   "id": "79db6946-de3e-41e0-bc1d-111dbdf0375f",
   "metadata": {},
   "source": [
    "**Модель Линейная Регрессия:**"
   ]
  },
  {
   "cell_type": "code",
   "execution_count": 20,
   "id": "e63d7923-6afa-473e-88d0-017be5ac1b40",
   "metadata": {},
   "outputs": [],
   "source": [
    "from sklearn.linear_model import LinearRegression\n",
    "\n",
    "# Инициализация модели\n",
    "lr_model = LinearRegression()\n",
    "# Обучение модели\n",
    "lr_model.fit(X_train, y_train)\n",
    "# Прогнозирование\n",
    "y_pred_lr = lr_model.predict(X_test)"
   ]
  },
  {
   "cell_type": "markdown",
   "id": "0d75a347-0118-4466-96ff-2e8758531876",
   "metadata": {},
   "source": [
    "**Модель Ridge(лр с регуляризацией):**"
   ]
  },
  {
   "cell_type": "code",
   "execution_count": 21,
   "id": "60260a89-c1d1-493d-b257-867694019c15",
   "metadata": {},
   "outputs": [],
   "source": [
    "from sklearn.linear_model import Ridge\n",
    "\n",
    "ridge_model = Ridge(alpha=1.0)\n",
    "ridge_model.fit(X_train, y_train)\n",
    "y_pred_ridge = ridge_model.predict(X_test)"
   ]
  },
  {
   "cell_type": "markdown",
   "id": "18f63b94-b61b-4d0e-b2d9-5ec4e24e3c49",
   "metadata": {},
   "source": [
    "**Модель Lasso:**"
   ]
  },
  {
   "cell_type": "code",
   "execution_count": 22,
   "id": "63f5f71a-ee2b-4d1b-ae83-1964e2b322ea",
   "metadata": {},
   "outputs": [
    {
     "name": "stderr",
     "output_type": "stream",
     "text": [
      "C:\\Users\\QSquirrel\\PycharmProjects\\regression\\.venv\\Lib\\site-packages\\sklearn\\linear_model\\_coordinate_descent.py:697: ConvergenceWarning: Objective did not converge. You might want to increase the number of iterations, check the scale of the features or consider increasing regularisation. Duality gap: 6.614e+10, tolerance: 6.406e+08\n",
      "  model = cd_fast.enet_coordinate_descent(\n"
     ]
    }
   ],
   "source": [
    "from sklearn.linear_model import Lasso\n",
    "\n",
    "lasso_model = Lasso(alpha=0.1)\n",
    "lasso_model.fit(X_train, y_train)\n",
    "y_pred_lasso = lasso_model.predict(X_test)"
   ]
  },
  {
   "cell_type": "markdown",
   "id": "1b39134f-e087-46df-b41c-7c0e87a6b0f2",
   "metadata": {},
   "source": [
    "**Модель ElasticNet:**"
   ]
  },
  {
   "cell_type": "code",
   "execution_count": 23,
   "id": "950ff3c1-74ed-4afe-b6af-646ebc2eeb33",
   "metadata": {},
   "outputs": [
    {
     "name": "stderr",
     "output_type": "stream",
     "text": [
      "C:\\Users\\QSquirrel\\PycharmProjects\\regression\\.venv\\Lib\\site-packages\\sklearn\\linear_model\\_coordinate_descent.py:697: ConvergenceWarning: Objective did not converge. You might want to increase the number of iterations, check the scale of the features or consider increasing regularisation. Duality gap: 4.773e+11, tolerance: 6.406e+08\n",
      "  model = cd_fast.enet_coordinate_descent(\n"
     ]
    }
   ],
   "source": [
    "from sklearn.linear_model import ElasticNet\n",
    "\n",
    "elasticnet_model = ElasticNet(alpha=1.0, l1_ratio=0.5, max_iter=10000)\n",
    "elasticnet_model.fit(X_train, y_train)\n",
    "y_pred_en = elasticnet_model.predict(X_test)"
   ]
  },
  {
   "cell_type": "markdown",
   "id": "382a4cbd-e041-464a-80bf-525933e01830",
   "metadata": {},
   "source": [
    "**Модель Деревья Решений:**"
   ]
  },
  {
   "cell_type": "code",
   "execution_count": 24,
   "id": "e870c92b-7035-47a4-b5bd-9a604283e46c",
   "metadata": {
    "scrolled": true
   },
   "outputs": [],
   "source": [
    "from sklearn.tree import DecisionTreeRegressor\n",
    "\n",
    "dt_model = DecisionTreeRegressor(random_state=42)\n",
    "dt_model.fit(X_train, y_train)\n",
    "y_pred_dt = dt_model.predict(X_test)"
   ]
  },
  {
   "cell_type": "markdown",
   "id": "0c2ee644-5d3c-483b-acb1-59ce1828d9d6",
   "metadata": {},
   "source": [
    "**Модель Случайный Лес:**"
   ]
  },
  {
   "cell_type": "code",
   "execution_count": 25,
   "id": "36bae738-a04a-4ec7-ad9f-42bf04ccff7b",
   "metadata": {},
   "outputs": [],
   "source": [
    "from sklearn.ensemble import RandomForestRegressor\n",
    "\n",
    "rf_model = RandomForestRegressor(n_estimators=100, random_state=81)\n",
    "rf_model.fit(X_train, y_train)\n",
    "y_pred_rf = rf_model.predict(X_test)"
   ]
  },
  {
   "cell_type": "markdown",
   "id": "ef18d4f5-eeda-4208-b9d8-9250e5230c6a",
   "metadata": {},
   "source": [
    "**Модель XGBoost:**"
   ]
  },
  {
   "cell_type": "code",
   "execution_count": 26,
   "id": "da67ad4a-9d44-4d49-83a2-f292288498ec",
   "metadata": {},
   "outputs": [],
   "source": [
    "import xgboost as xgb\n",
    "\n",
    "xgb_model = xgb.XGBRegressor()\n",
    "xgb_model.fit(X_train.to_numpy(), y_train.to_numpy())\n",
    "y_pred_xgb = xgb_model.predict(X_test.to_numpy())"
   ]
  },
  {
   "cell_type": "markdown",
   "id": "3c4facbf-ee25-44c4-88aa-f08705075f6d",
   "metadata": {},
   "source": [
    "**Модель Наивный Байес:**"
   ]
  },
  {
   "cell_type": "code",
   "execution_count": 27,
   "id": "fc67b8bc-e6e7-415f-a518-9423d17c9819",
   "metadata": {},
   "outputs": [],
   "source": [
    "from sklearn.naive_bayes import GaussianNB\n",
    "\n",
    "nb_model = GaussianNB()\n",
    "nb_model.fit(X_train, y_train)\n",
    "y_pred_nb = nb_model.predict(X_test)"
   ]
  },
  {
   "cell_type": "markdown",
   "id": "3db676d3-dbef-4c00-82c7-c8330e2b8fec",
   "metadata": {},
   "source": [
    "**Модель Логистическая Регрессия:**"
   ]
  },
  {
   "cell_type": "code",
   "execution_count": 28,
   "id": "08ea7fef-346c-4b9e-bc08-b89115adfac8",
   "metadata": {},
   "outputs": [
    {
     "name": "stderr",
     "output_type": "stream",
     "text": [
      "C:\\Users\\QSquirrel\\PycharmProjects\\regression\\.venv\\Lib\\site-packages\\sklearn\\linear_model\\_logistic.py:469: ConvergenceWarning: lbfgs failed to converge (status=1):\n",
      "STOP: TOTAL NO. of ITERATIONS REACHED LIMIT.\n",
      "\n",
      "Increase the number of iterations (max_iter) or scale the data as shown in:\n",
      "    https://scikit-learn.org/stable/modules/preprocessing.html\n",
      "Please also refer to the documentation for alternative solver options:\n",
      "    https://scikit-learn.org/stable/modules/linear_model.html#logistic-regression\n",
      "  n_iter_i = _check_optimize_result(\n"
     ]
    }
   ],
   "source": [
    "from sklearn.linear_model import LogisticRegression\n",
    "\n",
    "# Инициализация модели\n",
    "logreg_model = LogisticRegression()\n",
    "# Обучение модели\n",
    "logreg_model.fit(X_train, y_train)\n",
    "# Прогнозирование\n",
    "y_pred_logreg = logreg_model.predict(X_test)"
   ]
  },
  {
   "cell_type": "markdown",
   "id": "80bbee2c-3646-4d0b-b25c-413b161a9281",
   "metadata": {},
   "source": [
    "**Модель k ближайших соседей(knn):**"
   ]
  },
  {
   "cell_type": "code",
   "execution_count": 29,
   "id": "b25d833f-01d2-4a75-9d0b-e613497ca716",
   "metadata": {},
   "outputs": [],
   "source": [
    "from sklearn.neighbors import KNeighborsRegressor\n",
    "\n",
    "# Инициализация модели\n",
    "knn_model = KNeighborsRegressor(n_neighbors=5)\n",
    "# Обучение модели\n",
    "knn_model.fit(X_train, y_train)\n",
    "# Прогнозирование\n",
    "y_pred_knn = knn_model.predict(X_test)"
   ]
  },
  {
   "cell_type": "markdown",
   "id": "0350e6eb-c0b0-40b8-835e-4dffa8855cbb",
   "metadata": {},
   "source": [
    "**Далее оценим показатели ошибок для каждой модели:**\n",
    "\n",
    "* RMSE - оценка среднеквадратической ошибки модели(корень - для приближения величины ошибки к величине исхода)\n",
    "* R2 - доля объяснённой дисперсии. Для оценки общей точности модели.\n",
    "* Mean Err - средняя разница между предсказаниями и фактическими значениями.\n",
    "* MAPE - Средний процент ошибки."
   ]
  },
  {
   "cell_type": "code",
   "execution_count": 30,
   "id": "b8ad392c-d36c-4959-b74d-f1bd9f2838b8",
   "metadata": {},
   "outputs": [
    {
     "data": {
      "text/html": [
       "<div>\n",
       "<style scoped>\n",
       "    .dataframe tbody tr th:only-of-type {\n",
       "        vertical-align: middle;\n",
       "    }\n",
       "\n",
       "    .dataframe tbody tr th {\n",
       "        vertical-align: top;\n",
       "    }\n",
       "\n",
       "    .dataframe thead th {\n",
       "        text-align: right;\n",
       "    }\n",
       "</style>\n",
       "<table border=\"1\" class=\"dataframe\">\n",
       "  <thead>\n",
       "    <tr style=\"text-align: right;\">\n",
       "      <th>Model/Metric</th>\n",
       "      <th>MSE</th>\n",
       "      <th>RMSE</th>\n",
       "      <th>R²</th>\n",
       "      <th>Mean Error</th>\n",
       "      <th>MAPE (%)</th>\n",
       "    </tr>\n",
       "  </thead>\n",
       "  <tbody>\n",
       "    <tr>\n",
       "      <th>Linear Reg</th>\n",
       "      <td>1905931869.4025</td>\n",
       "      <td>43656.9796</td>\n",
       "      <td>0.7020</td>\n",
       "      <td>-1419.7899</td>\n",
       "      <td>11.9171</td>\n",
       "    </tr>\n",
       "    <tr>\n",
       "      <th>Ridge Reg</th>\n",
       "      <td>1782339020.9706</td>\n",
       "      <td>42217.7572</td>\n",
       "      <td>0.7214</td>\n",
       "      <td>-1164.5940</td>\n",
       "      <td>11.4957</td>\n",
       "    </tr>\n",
       "    <tr>\n",
       "      <th>Lasso Reg</th>\n",
       "      <td>1858818632.7467</td>\n",
       "      <td>43114.0190</td>\n",
       "      <td>0.7094</td>\n",
       "      <td>-1391.4195</td>\n",
       "      <td>11.8849</td>\n",
       "    </tr>\n",
       "    <tr>\n",
       "      <th>Elastic Net</th>\n",
       "      <td>1962974426.3345</td>\n",
       "      <td>44305.4672</td>\n",
       "      <td>0.6931</td>\n",
       "      <td>-470.3039</td>\n",
       "      <td>11.7357</td>\n",
       "    </tr>\n",
       "    <tr>\n",
       "      <th>Naive Bayes</th>\n",
       "      <td>3130657143.8128</td>\n",
       "      <td>55952.2756</td>\n",
       "      <td>0.5106</td>\n",
       "      <td>12959.9224</td>\n",
       "      <td>17.3414</td>\n",
       "    </tr>\n",
       "    <tr>\n",
       "      <th>Logistic Reg</th>\n",
       "      <td>3729298979.6575</td>\n",
       "      <td>61067.9865</td>\n",
       "      <td>0.4170</td>\n",
       "      <td>16296.2466</td>\n",
       "      <td>21.6684</td>\n",
       "    </tr>\n",
       "    <tr>\n",
       "      <th>Decision Tree</th>\n",
       "      <td>1434035608.2055</td>\n",
       "      <td>37868.6626</td>\n",
       "      <td>0.7758</td>\n",
       "      <td>-240.5160</td>\n",
       "      <td>14.0623</td>\n",
       "    </tr>\n",
       "    <tr>\n",
       "      <th>Random Forest</th>\n",
       "      <td>941977160.8190</td>\n",
       "      <td>30691.6464</td>\n",
       "      <td>0.8527</td>\n",
       "      <td>359.1230</td>\n",
       "      <td>10.6412</td>\n",
       "    </tr>\n",
       "    <tr>\n",
       "      <th>XGBoost Reg</th>\n",
       "      <td>809354588.4941</td>\n",
       "      <td>28449.1580</td>\n",
       "      <td>0.8735</td>\n",
       "      <td>38.0318</td>\n",
       "      <td>10.1755</td>\n",
       "    </tr>\n",
       "    <tr>\n",
       "      <th>KNeighbors Reg</th>\n",
       "      <td>2391462431.5610</td>\n",
       "      <td>48902.5810</td>\n",
       "      <td>0.6261</td>\n",
       "      <td>7108.4689</td>\n",
       "      <td>17.3131</td>\n",
       "    </tr>\n",
       "  </tbody>\n",
       "</table>\n",
       "</div>"
      ],
      "text/plain": [
       "Model/Metric               MSE       RMSE     R²  Mean Error  MAPE (%)\n",
       "Linear Reg     1905931869.4025 43656.9796 0.7020  -1419.7899   11.9171\n",
       "Ridge Reg      1782339020.9706 42217.7572 0.7214  -1164.5940   11.4957\n",
       "Lasso Reg      1858818632.7467 43114.0190 0.7094  -1391.4195   11.8849\n",
       "Elastic Net    1962974426.3345 44305.4672 0.6931   -470.3039   11.7357\n",
       "Naive Bayes    3130657143.8128 55952.2756 0.5106  12959.9224   17.3414\n",
       "Logistic Reg   3729298979.6575 61067.9865 0.4170  16296.2466   21.6684\n",
       "Decision Tree  1434035608.2055 37868.6626 0.7758   -240.5160   14.0623\n",
       "Random Forest   941977160.8190 30691.6464 0.8527    359.1230   10.6412\n",
       "XGBoost Reg     809354588.4941 28449.1580 0.8735     38.0318   10.1755\n",
       "KNeighbors Reg 2391462431.5610 48902.5810 0.6261   7108.4689   17.3131"
      ]
     },
     "execution_count": 30,
     "metadata": {},
     "output_type": "execute_result"
    }
   ],
   "source": [
    "from sklearn.metrics import mean_squared_error, r2_score\n",
    "\n",
    "# Расчет метрик для Linear\n",
    "mse_lr = mean_squared_error(y_test, y_pred_lr)\n",
    "rmse_lr = np.sqrt(mse_lr)\n",
    "r2_lr = r2_score(y_test, y_pred_lr)\n",
    "mean_error_lr = np.mean(y_test - y_pred_lr)\n",
    "mape_lr = np.mean(np.abs((y_test - y_pred_lr) / y_test)) * 100\n",
    "\n",
    "# Расчет метрик для Ridge\n",
    "mse_ridge = mean_squared_error(y_test, y_pred_ridge)\n",
    "rmse_ridge = np.sqrt(mse_ridge)\n",
    "r2_ridge = r2_score(y_test, y_pred_ridge)\n",
    "mean_error_ridge = np.mean(y_test - y_pred_ridge)\n",
    "mape_ridge = np.mean(np.abs((y_test - y_pred_ridge) / y_test)) * 100\n",
    "\n",
    "# Расчет метрик для Lasso\n",
    "mse_lasso = mean_squared_error(y_test, y_pred_lasso)\n",
    "rmse_lasso = np.sqrt(mse_lasso)\n",
    "r2_lasso = r2_score(y_test, y_pred_lasso)\n",
    "mean_error_lasso = np.mean(y_test - y_pred_lasso)\n",
    "mape_lasso = np.mean(np.abs((y_test - y_pred_lasso) / y_test)) * 100\n",
    "\n",
    "# Расчет метрик для Elastic Net\n",
    "mse_en = mean_squared_error(y_test, y_pred_en)\n",
    "rmse_en = np.sqrt(mse_en)\n",
    "r2_en = r2_score(y_test, y_pred_en)\n",
    "mean_error_en = np.mean(y_test - y_pred_en)\n",
    "mape_en = np.mean(np.abs((y_test - y_pred_en) / y_test)) * 100\n",
    "\n",
    "# Расчет метрик для Naive Bayes\n",
    "mse_nb = mean_squared_error(y_test, y_pred_nb)\n",
    "rmse_nb = np.sqrt(mse_nb)\n",
    "r2_nb = r2_score(y_test, y_pred_nb)\n",
    "mean_error_nb = np.mean(y_test - y_pred_nb)\n",
    "mape_nb = np.mean(np.abs((y_test - y_pred_nb) / y_test)) * 100\n",
    "\n",
    "# Расчет метрик для LogisticReg\n",
    "mse_logreg = mean_squared_error(y_test, y_pred_logreg)\n",
    "rmse_logreg = np.sqrt(mse_logreg)\n",
    "r2_logreg = r2_score(y_test, y_pred_logreg)\n",
    "mean_error_logreg = np.mean(y_test - y_pred_logreg)\n",
    "mape_logreg = np.mean(np.abs((y_test - y_pred_logreg) / y_test)) * 100\n",
    "\n",
    "# Расчет метрик для Decision Tree\n",
    "mse_dt = mean_squared_error(y_test, y_pred_dt)\n",
    "rmse_dt = np.sqrt(mse_dt)\n",
    "r2_dt = r2_score(y_test, y_pred_dt)\n",
    "mean_error_dt = np.mean(y_test - y_pred_dt)\n",
    "mape_dt = np.mean(np.abs((y_test - y_pred_dt) / y_test)) * 100\n",
    "\n",
    "# Расчет метрик для Random Forest\n",
    "mse_rf = mean_squared_error(y_test, y_pred_rf)\n",
    "rmse_rf = np.sqrt(mse_rf)\n",
    "r2_rf = r2_score(y_test, y_pred_rf)\n",
    "mean_error_rf = np.mean(y_test - y_pred_rf)\n",
    "mape_rf = np.mean(np.abs((y_test - y_pred_rf) / y_test)) * 100\n",
    "\n",
    "# Расчет метрик для XGBoost\n",
    "mse_xgb = mean_squared_error(y_test, y_pred_xgb)\n",
    "rmse_xgb = np.sqrt(mse_xgb)\n",
    "r2_xgb = r2_score(y_test, y_pred_xgb)\n",
    "mean_error_xgb = np.mean(y_test - y_pred_xgb)\n",
    "mape_xgb = np.mean(np.abs((y_test - y_pred_xgb) / y_test)) * 100\n",
    "\n",
    "# Расчет метрик для KNeighbors\n",
    "mse_knn = mean_squared_error(y_test, y_pred_knn)\n",
    "rmse_knn = np.sqrt(mse_knn)\n",
    "r2_knn = r2_score(y_test, y_pred_knn)\n",
    "mean_error_knn = np.mean(y_test - y_pred_knn)\n",
    "mape_knn = np.mean(np.abs((y_test - y_pred_knn) / y_test)) * 100\n",
    "\n",
    "\n",
    "\n",
    "# Фрейм для удобного отображения\n",
    "metrics_df = pd.DataFrame({\n",
    "    \"Model/Metric\": [\"MSE\", \"RMSE\", \"R²\", \"Mean Error\", \"MAPE (%)\"],\n",
    "    \"Linear Reg\": [mse_lr, rmse_lr, r2_lr, mean_error_lr, mape_lr],\n",
    "    \"Ridge Reg\": [mse_ridge, rmse_ridge, r2_ridge, mean_error_ridge, mape_ridge],\n",
    "    \"Lasso Reg\": [mse_lasso, rmse_lasso, r2_lasso, mean_error_lasso, mape_lasso],\n",
    "    \"Elastic Net\": [mse_en, rmse_en, r2_en, mean_error_en, mape_en],\n",
    "    \"Naive Bayes\": [mse_nb, rmse_nb, r2_nb, mean_error_nb, mape_nb],\n",
    "    \"Logistic Reg\": [mse_logreg, rmse_logreg, r2_logreg, mean_error_logreg, mape_logreg],\n",
    "    \"Decision Tree\": [mse_dt, rmse_dt, r2_dt, mean_error_dt, mape_dt],\n",
    "    \"Random Forest\": [mse_rf, rmse_rf, r2_rf, mean_error_rf, mape_rf],\n",
    "    \"XGBoost Reg\": [mse_xgb, rmse_xgb, r2_xgb, mean_error_xgb, mape_xgb],\n",
    "    \"KNeighbors Reg\": [mse_knn, rmse_knn, r2_knn, mean_error_knn, mape_knn],\n",
    "})\n",
    "metrics_df.set_index('Model/Metric', inplace=True)\n",
    "pd.set_option('display.float_format', lambda x: '%0.4f' % x) # отображение единиц величин\n",
    "metrics_df.transpose()"
   ]
  },
  {
   "cell_type": "markdown",
   "id": "b7e59330-7d31-412a-9680-1e8ab3925c88",
   "metadata": {},
   "source": [
    "**Выводы:**\n",
    "* Для Lasso, ElasticNet и Logistic Reg следует настроить гиперпараметры;\n",
    "* Logistic Reg, Naive Bayes, KNN, ElasticNet дали худшие результаты."
   ]
  },
  {
   "cell_type": "markdown",
   "id": "20fafc66-d6ed-4caf-8924-aac162d035e3",
   "metadata": {
    "jp-MarkdownHeadingCollapsed": true
   },
   "source": [
    "## Стандартизация:"
   ]
  },
  {
   "cell_type": "code",
   "execution_count": 31,
   "id": "fa6b28bf-4869-4607-bc68-2031d2267155",
   "metadata": {},
   "outputs": [],
   "source": [
    "scale_cols = [col for col in num_cols if col != 'SalePrice'] # величину исхода мы не стандартизируем"
   ]
  },
  {
   "cell_type": "code",
   "execution_count": 32,
   "id": "01bc11ae-4976-4137-83e5-458c4d2a30d5",
   "metadata": {},
   "outputs": [
    {
     "data": {
      "text/plain": [
       "['MSSubClass',\n",
       " 'LotFrontage',\n",
       " 'LotArea',\n",
       " 'OverallQual',\n",
       " 'OverallCond',\n",
       " 'YearBuilt',\n",
       " 'YearRemodAdd',\n",
       " 'MasVnrArea',\n",
       " 'BsmtFinSF1',\n",
       " 'BsmtFinSF2',\n",
       " 'BsmtUnfSF',\n",
       " 'TotalBsmtSF',\n",
       " '1stFlrSF',\n",
       " '2ndFlrSF',\n",
       " 'LowQualFinSF',\n",
       " 'GrLivArea',\n",
       " 'BsmtFullBath',\n",
       " 'BsmtHalfBath',\n",
       " 'FullBath',\n",
       " 'HalfBath',\n",
       " 'BedroomAbvGr',\n",
       " 'KitchenAbvGr',\n",
       " 'TotRmsAbvGrd',\n",
       " 'Fireplaces',\n",
       " 'GarageYrBlt',\n",
       " 'GarageCars',\n",
       " 'GarageArea',\n",
       " 'WoodDeckSF',\n",
       " 'OpenPorchSF',\n",
       " 'EnclosedPorch',\n",
       " '3SsnPorch',\n",
       " 'ScreenPorch',\n",
       " 'PoolArea',\n",
       " 'MiscVal',\n",
       " 'MoSold',\n",
       " 'YrSold']"
      ]
     },
     "execution_count": 32,
     "metadata": {},
     "output_type": "execute_result"
    }
   ],
   "source": [
    "scale_cols"
   ]
  },
  {
   "cell_type": "code",
   "execution_count": 33,
   "id": "984b0aed-6004-49f7-becc-28ae6959654e",
   "metadata": {},
   "outputs": [],
   "source": [
    "from sklearn.preprocessing import StandardScaler\n",
    "\n",
    "scaler = StandardScaler()\n",
    "\n",
    "X_train[scale_cols] = scaler.fit_transform(X_train[scale_cols])\n",
    "X_test[scale_cols] = scaler.transform(X_test[scale_cols])"
   ]
  },
  {
   "cell_type": "markdown",
   "id": "1f08dfe2-d4dc-4ef9-8ed4-3f916b2e66a8",
   "metadata": {},
   "source": [
    "**Переобучаем модели на стандартизированных данных:**"
   ]
  },
  {
   "cell_type": "markdown",
   "id": "1590db65-c906-41cc-8163-48237abb0944",
   "metadata": {},
   "source": [
    "**Модель Линейная Регрессия:**"
   ]
  },
  {
   "cell_type": "code",
   "execution_count": 34,
   "id": "15645095-fcaa-4e57-9fcf-e364339a10e3",
   "metadata": {},
   "outputs": [],
   "source": [
    "# Переобучение модели\n",
    "lr_model.fit(X_train, y_train)\n",
    "y_pred_lr = lr_model.predict(X_test)"
   ]
  },
  {
   "cell_type": "markdown",
   "id": "47b87cc2-9903-4bb1-928d-ad4c9f08da82",
   "metadata": {},
   "source": [
    "**Модель Ridge:**"
   ]
  },
  {
   "cell_type": "code",
   "execution_count": 35,
   "id": "14750687-0d23-4a8b-919a-3c2f425fa92f",
   "metadata": {},
   "outputs": [],
   "source": [
    "ridge_model.fit(X_train, y_train)\n",
    "y_pred_ridge = ridge_model.predict(X_test)"
   ]
  },
  {
   "cell_type": "markdown",
   "id": "107a6dae-26b0-4497-be07-b6c969a896c3",
   "metadata": {},
   "source": [
    "**Модель Lasso:**"
   ]
  },
  {
   "cell_type": "code",
   "execution_count": 36,
   "id": "83d6e088-a63f-4d4a-92d0-8bc77d095faf",
   "metadata": {},
   "outputs": [
    {
     "name": "stderr",
     "output_type": "stream",
     "text": [
      "C:\\Users\\QSquirrel\\PycharmProjects\\regression\\.venv\\Lib\\site-packages\\sklearn\\linear_model\\_coordinate_descent.py:697: ConvergenceWarning: Objective did not converge. You might want to increase the number of iterations, check the scale of the features or consider increasing regularisation. Duality gap: 6.615e+10, tolerance: 6.406e+08\n",
      "  model = cd_fast.enet_coordinate_descent(\n"
     ]
    }
   ],
   "source": [
    "lasso_model.fit(X_train, y_train)\n",
    "y_pred_lasso = lasso_model.predict(X_test)"
   ]
  },
  {
   "cell_type": "markdown",
   "id": "72ae77fc-96ba-48bd-bec0-d2d763de68bf",
   "metadata": {},
   "source": [
    "**Модель Elastic Net:**"
   ]
  },
  {
   "cell_type": "code",
   "execution_count": 37,
   "id": "ab66b822-d54b-4f8d-8b5a-2d8d7ea6fd11",
   "metadata": {},
   "outputs": [],
   "source": [
    "elasticnet_model.fit(X_train, y_train)\n",
    "y_pred_en = elasticnet_model.predict(X_test)"
   ]
  },
  {
   "cell_type": "markdown",
   "id": "dbceabc4-a4d5-4e6b-be1b-cb8f15535558",
   "metadata": {},
   "source": [
    "**Модель Деревья Решеиний:**"
   ]
  },
  {
   "cell_type": "code",
   "execution_count": 38,
   "id": "decca670-56e4-4a00-b533-67cb05eba5ef",
   "metadata": {},
   "outputs": [],
   "source": [
    "dt_model.fit(X_train, y_train)\n",
    "y_pred_dt = dt_model.predict(X_test)"
   ]
  },
  {
   "cell_type": "markdown",
   "id": "7ff9c3a0-44c0-4b6e-a3e1-b33cbb774a97",
   "metadata": {},
   "source": [
    "**Модель Случайный Лес:**"
   ]
  },
  {
   "cell_type": "code",
   "execution_count": 39,
   "id": "3c5e60b0-03be-49e1-b7a1-0ab36fe0428e",
   "metadata": {},
   "outputs": [],
   "source": [
    "rf_model.fit(X_train, y_train)\n",
    "y_pred_rf = rf_model.predict(X_test)"
   ]
  },
  {
   "cell_type": "markdown",
   "id": "97ef2592-149c-4fcf-a7c0-c07f92f0ffe7",
   "metadata": {},
   "source": [
    "**Модель XGBoost:**"
   ]
  },
  {
   "cell_type": "code",
   "execution_count": 40,
   "id": "b35658ee-3135-4177-b70b-dfcad037877f",
   "metadata": {},
   "outputs": [],
   "source": [
    "xgb_model.fit(X_train.to_numpy(), y_train.to_numpy())\n",
    "y_pred_xgb = xgb_model.predict(X_test.to_numpy())"
   ]
  },
  {
   "cell_type": "markdown",
   "id": "114f6333-1468-4f3d-b050-89f24e68997b",
   "metadata": {},
   "source": [
    "**Модель Наивный Байес:**"
   ]
  },
  {
   "cell_type": "code",
   "execution_count": 41,
   "id": "269c529d-e157-4b1c-9cc2-16e8f26deba3",
   "metadata": {},
   "outputs": [],
   "source": [
    "nb_model.fit(X_train, y_train)\n",
    "y_pred_nb = nb_model.predict(X_test)"
   ]
  },
  {
   "cell_type": "markdown",
   "id": "b4eced3a-b7d9-40bb-bdcf-c442bf6fb418",
   "metadata": {},
   "source": [
    "**Модель Логистическая Регрессия:**"
   ]
  },
  {
   "cell_type": "code",
   "execution_count": 42,
   "id": "ecc23f61-d833-4fcc-ba38-132943ab32bc",
   "metadata": {},
   "outputs": [
    {
     "name": "stderr",
     "output_type": "stream",
     "text": [
      "C:\\Users\\QSquirrel\\PycharmProjects\\regression\\.venv\\Lib\\site-packages\\sklearn\\linear_model\\_logistic.py:469: ConvergenceWarning: lbfgs failed to converge (status=1):\n",
      "STOP: TOTAL NO. of ITERATIONS REACHED LIMIT.\n",
      "\n",
      "Increase the number of iterations (max_iter) or scale the data as shown in:\n",
      "    https://scikit-learn.org/stable/modules/preprocessing.html\n",
      "Please also refer to the documentation for alternative solver options:\n",
      "    https://scikit-learn.org/stable/modules/linear_model.html#logistic-regression\n",
      "  n_iter_i = _check_optimize_result(\n"
     ]
    }
   ],
   "source": [
    "logreg_model.fit(X_train, y_train)\n",
    "y_pred_logreg = logreg_model.predict(X_test)"
   ]
  },
  {
   "cell_type": "markdown",
   "id": "d1ee9506-fdf3-4d75-8195-0f6b340f7fea",
   "metadata": {},
   "source": [
    "**Модель k ближайших соседей(knn):**"
   ]
  },
  {
   "cell_type": "code",
   "execution_count": 43,
   "id": "0536bb8c-1d5e-4563-970d-aa7597fd9ebb",
   "metadata": {},
   "outputs": [],
   "source": [
    "knn_model.fit(X_train, y_train)\n",
    "y_pred_knn = knn_model.predict(X_test)"
   ]
  },
  {
   "cell_type": "markdown",
   "id": "1ac4b6fb-79cd-4ed3-886f-7dd6b9453bfc",
   "metadata": {},
   "source": [
    "**Пересчитаем оценки работы моделей**"
   ]
  },
  {
   "cell_type": "code",
   "execution_count": 44,
   "id": "cb8369af-999a-4dd6-abd9-d1e3e839a9f3",
   "metadata": {},
   "outputs": [
    {
     "data": {
      "text/html": [
       "<div>\n",
       "<style scoped>\n",
       "    .dataframe tbody tr th:only-of-type {\n",
       "        vertical-align: middle;\n",
       "    }\n",
       "\n",
       "    .dataframe tbody tr th {\n",
       "        vertical-align: top;\n",
       "    }\n",
       "\n",
       "    .dataframe thead th {\n",
       "        text-align: right;\n",
       "    }\n",
       "</style>\n",
       "<table border=\"1\" class=\"dataframe\">\n",
       "  <thead>\n",
       "    <tr style=\"text-align: right;\">\n",
       "      <th>Model/Metric</th>\n",
       "      <th>MSE</th>\n",
       "      <th>RMSE</th>\n",
       "      <th>R²</th>\n",
       "      <th>Mean Error</th>\n",
       "      <th>MAPE (%)</th>\n",
       "    </tr>\n",
       "  </thead>\n",
       "  <tbody>\n",
       "    <tr>\n",
       "      <th>Linear Reg</th>\n",
       "      <td>1905931869.4027</td>\n",
       "      <td>43656.9796</td>\n",
       "      <td>0.7020</td>\n",
       "      <td>-1419.7899</td>\n",
       "      <td>11.9171</td>\n",
       "    </tr>\n",
       "    <tr>\n",
       "      <th>Ridge Reg</th>\n",
       "      <td>1780234169.5117</td>\n",
       "      <td>42192.8213</td>\n",
       "      <td>0.7217</td>\n",
       "      <td>-1171.9721</td>\n",
       "      <td>11.5009</td>\n",
       "    </tr>\n",
       "    <tr>\n",
       "      <th>Lasso Reg</th>\n",
       "      <td>1858768009.5708</td>\n",
       "      <td>43113.4319</td>\n",
       "      <td>0.7094</td>\n",
       "      <td>-1391.4644</td>\n",
       "      <td>11.8849</td>\n",
       "    </tr>\n",
       "    <tr>\n",
       "      <th>Elastic Net</th>\n",
       "      <td>1616826963.3806</td>\n",
       "      <td>40209.7869</td>\n",
       "      <td>0.7472</td>\n",
       "      <td>153.8327</td>\n",
       "      <td>11.0008</td>\n",
       "    </tr>\n",
       "    <tr>\n",
       "      <th>Naive Bayes</th>\n",
       "      <td>4269032824.1781</td>\n",
       "      <td>65337.8361</td>\n",
       "      <td>0.3326</td>\n",
       "      <td>16757.8676</td>\n",
       "      <td>19.2955</td>\n",
       "    </tr>\n",
       "    <tr>\n",
       "      <th>Logistic Reg</th>\n",
       "      <td>5453735140.3881</td>\n",
       "      <td>73849.4085</td>\n",
       "      <td>0.1474</td>\n",
       "      <td>26442.4566</td>\n",
       "      <td>21.2132</td>\n",
       "    </tr>\n",
       "    <tr>\n",
       "      <th>Decision Tree</th>\n",
       "      <td>1434489606.7648</td>\n",
       "      <td>37874.6565</td>\n",
       "      <td>0.7757</td>\n",
       "      <td>-238.4909</td>\n",
       "      <td>14.0711</td>\n",
       "    </tr>\n",
       "    <tr>\n",
       "      <th>Random Forest</th>\n",
       "      <td>942049859.9035</td>\n",
       "      <td>30692.8308</td>\n",
       "      <td>0.8527</td>\n",
       "      <td>332.2314</td>\n",
       "      <td>10.6455</td>\n",
       "    </tr>\n",
       "    <tr>\n",
       "      <th>XGBoost Reg</th>\n",
       "      <td>809354588.4941</td>\n",
       "      <td>28449.1580</td>\n",
       "      <td>0.8735</td>\n",
       "      <td>38.0318</td>\n",
       "      <td>10.1755</td>\n",
       "    </tr>\n",
       "    <tr>\n",
       "      <th>KNeighbors Reg</th>\n",
       "      <td>4444038645.3914</td>\n",
       "      <td>66663.6231</td>\n",
       "      <td>0.3052</td>\n",
       "      <td>5809.7516</td>\n",
       "      <td>26.5929</td>\n",
       "    </tr>\n",
       "  </tbody>\n",
       "</table>\n",
       "</div>"
      ],
      "text/plain": [
       "Model/Metric               MSE       RMSE     R²  Mean Error  MAPE (%)\n",
       "Linear Reg     1905931869.4027 43656.9796 0.7020  -1419.7899   11.9171\n",
       "Ridge Reg      1780234169.5117 42192.8213 0.7217  -1171.9721   11.5009\n",
       "Lasso Reg      1858768009.5708 43113.4319 0.7094  -1391.4644   11.8849\n",
       "Elastic Net    1616826963.3806 40209.7869 0.7472    153.8327   11.0008\n",
       "Naive Bayes    4269032824.1781 65337.8361 0.3326  16757.8676   19.2955\n",
       "Logistic Reg   5453735140.3881 73849.4085 0.1474  26442.4566   21.2132\n",
       "Decision Tree  1434489606.7648 37874.6565 0.7757   -238.4909   14.0711\n",
       "Random Forest   942049859.9035 30692.8308 0.8527    332.2314   10.6455\n",
       "XGBoost Reg     809354588.4941 28449.1580 0.8735     38.0318   10.1755\n",
       "KNeighbors Reg 4444038645.3914 66663.6231 0.3052   5809.7516   26.5929"
      ]
     },
     "execution_count": 44,
     "metadata": {},
     "output_type": "execute_result"
    }
   ],
   "source": [
    "from sklearn.metrics import mean_squared_error, r2_score\n",
    "\n",
    "# Расчет метрик для Linear\n",
    "mse_lr = mean_squared_error(y_test, y_pred_lr)\n",
    "rmse_lr = np.sqrt(mse_lr)\n",
    "r2_lr = r2_score(y_test, y_pred_lr)\n",
    "mean_error_lr = np.mean(y_test - y_pred_lr)\n",
    "mape_lr = np.mean(np.abs((y_test - y_pred_lr) / y_test)) * 100\n",
    "\n",
    "# Расчет метрик для Ridge\n",
    "mse_ridge = mean_squared_error(y_test, y_pred_ridge)\n",
    "rmse_ridge = np.sqrt(mse_ridge)\n",
    "r2_ridge = r2_score(y_test, y_pred_ridge)\n",
    "mean_error_ridge = np.mean(y_test - y_pred_ridge)\n",
    "mape_ridge = np.mean(np.abs((y_test - y_pred_ridge) / y_test)) * 100\n",
    "\n",
    "# Расчет метрик для Lasso\n",
    "mse_lasso = mean_squared_error(y_test, y_pred_lasso)\n",
    "rmse_lasso = np.sqrt(mse_lasso)\n",
    "r2_lasso = r2_score(y_test, y_pred_lasso)\n",
    "mean_error_lasso = np.mean(y_test - y_pred_lasso)\n",
    "mape_lasso = np.mean(np.abs((y_test - y_pred_lasso) / y_test)) * 100\n",
    "\n",
    "# Расчет метрик для Elastic Net\n",
    "mse_en = mean_squared_error(y_test, y_pred_en)\n",
    "rmse_en = np.sqrt(mse_en)\n",
    "r2_en = r2_score(y_test, y_pred_en)\n",
    "mean_error_en = np.mean(y_test - y_pred_en)\n",
    "mape_en = np.mean(np.abs((y_test - y_pred_en) / y_test)) * 100\n",
    "\n",
    "# Расчет метрик для Naive Bayes\n",
    "mse_nb = mean_squared_error(y_test, y_pred_nb)\n",
    "rmse_nb = np.sqrt(mse_nb)\n",
    "r2_nb = r2_score(y_test, y_pred_nb)\n",
    "mean_error_nb = np.mean(y_test - y_pred_nb)\n",
    "mape_nb = np.mean(np.abs((y_test - y_pred_nb) / y_test)) * 100\n",
    "\n",
    "# Расчет метрик для LogisticReg\n",
    "mse_logreg = mean_squared_error(y_test, y_pred_logreg)\n",
    "rmse_logreg = np.sqrt(mse_logreg)\n",
    "r2_logreg = r2_score(y_test, y_pred_logreg)\n",
    "mean_error_logreg = np.mean(y_test - y_pred_logreg)\n",
    "mape_logreg = np.mean(np.abs((y_test - y_pred_logreg) / y_test)) * 100\n",
    "\n",
    "# Расчет метрик для Decision Tree\n",
    "mse_dt = mean_squared_error(y_test, y_pred_dt)\n",
    "rmse_dt = np.sqrt(mse_dt)\n",
    "r2_dt = r2_score(y_test, y_pred_dt)\n",
    "mean_error_dt = np.mean(y_test - y_pred_dt)\n",
    "mape_dt = np.mean(np.abs((y_test - y_pred_dt) / y_test)) * 100\n",
    "\n",
    "# Расчет метрик для Random Forest\n",
    "mse_rf = mean_squared_error(y_test, y_pred_rf)\n",
    "rmse_rf = np.sqrt(mse_rf)\n",
    "r2_rf = r2_score(y_test, y_pred_rf)\n",
    "mean_error_rf = np.mean(y_test - y_pred_rf)\n",
    "mape_rf = np.mean(np.abs((y_test - y_pred_rf) / y_test)) * 100\n",
    "\n",
    "# Расчет метрик для XGBoost\n",
    "mse_xgb = mean_squared_error(y_test, y_pred_xgb)\n",
    "rmse_xgb = np.sqrt(mse_xgb)\n",
    "r2_xgb = r2_score(y_test, y_pred_xgb)\n",
    "mean_error_xgb = np.mean(y_test - y_pred_xgb)\n",
    "mape_xgb = np.mean(np.abs((y_test - y_pred_xgb) / y_test)) * 100\n",
    "\n",
    "# Расчет метрик для KNeighbors\n",
    "mse_knn = mean_squared_error(y_test, y_pred_knn)\n",
    "rmse_knn = np.sqrt(mse_knn)\n",
    "r2_knn = r2_score(y_test, y_pred_knn)\n",
    "mean_error_knn = np.mean(y_test - y_pred_knn)\n",
    "mape_knn = np.mean(np.abs((y_test - y_pred_knn) / y_test)) * 100\n",
    "\n",
    "\n",
    "\n",
    "# Создание DataFrame для удобного отображения\n",
    "metrics_df = pd.DataFrame({\n",
    "    \"Model/Metric\": [\"MSE\", \"RMSE\", \"R²\", \"Mean Error\", \"MAPE (%)\"],\n",
    "    \"Linear Reg\": [mse_lr, rmse_lr, r2_lr, mean_error_lr, mape_lr],\n",
    "    \"Ridge Reg\": [mse_ridge, rmse_ridge, r2_ridge, mean_error_ridge, mape_ridge],\n",
    "    \"Lasso Reg\": [mse_lasso, rmse_lasso, r2_lasso, mean_error_lasso, mape_lasso],\n",
    "    \"Elastic Net\": [mse_en, rmse_en, r2_en, mean_error_en, mape_en],\n",
    "    \"Naive Bayes\": [mse_nb, rmse_nb, r2_nb, mean_error_nb, mape_nb],\n",
    "    \"Logistic Reg\": [mse_logreg, rmse_logreg, r2_logreg, mean_error_logreg, mape_logreg],\n",
    "    \"Decision Tree\": [mse_dt, rmse_dt, r2_dt, mean_error_dt, mape_dt],\n",
    "    \"Random Forest\": [mse_rf, rmse_rf, r2_rf, mean_error_rf, mape_rf],\n",
    "    \"XGBoost Reg\": [mse_xgb, rmse_xgb, r2_xgb, mean_error_xgb, mape_xgb],\n",
    "    \"KNeighbors Reg\": [mse_knn, rmse_knn, r2_knn, mean_error_knn, mape_knn],\n",
    "})\n",
    "metrics_df.set_index('Model/Metric', inplace=True)\n",
    "pd.set_option('display.float_format', lambda x: '%0.4f' % x)\n",
    "metrics_df.transpose()"
   ]
  },
  {
   "cell_type": "markdown",
   "id": "cef14271-e7b4-4e76-b621-966475e1b88a",
   "metadata": {
    "jp-MarkdownHeadingCollapsed": true
   },
   "source": [
    "## Работа с оценками(поиск лучшей модели с помощью кросс-валидации):"
   ]
  },
  {
   "cell_type": "markdown",
   "id": "cf34efd1-d9fd-4b1c-9b6f-8b09be2780aa",
   "metadata": {},
   "source": [
    "**Найдём модель, которая даст меньшие ошибки.**\n",
    "\n",
    "*Список моделей избирался эксперементальным путём*"
   ]
  },
  {
   "cell_type": "code",
   "execution_count": 45,
   "id": "c5827ab0-33ae-4e94-a197-2c0bfc220500",
   "metadata": {},
   "outputs": [
    {
     "name": "stdout",
     "output_type": "stream",
     "text": [
      "Результаты кросс-валидации:\n",
      "\n",
      "Модель: Ridge\n",
      "  MAE: 19042.5320\n",
      "  RMSE: 30326.9144\n",
      "  R2: 0.8477\n",
      "  MAPE: 11.6312\n",
      "\n",
      "Модель: Decision Tree\n",
      "  MAE: 28837.2021\n",
      "  RMSE: 44730.1839\n",
      "  R2: 0.6764\n",
      "  MAPE: 16.8653\n",
      "\n",
      "Модель: Random Forest\n",
      "  MAE: 17861.6195\n",
      "  RMSE: 29901.6308\n",
      "  R2: 0.8531\n",
      "  MAPE: 10.5776\n",
      "\n",
      "Модель: XGBoost\n",
      "  MAE: 18364.2180\n",
      "  RMSE: 32076.9439\n",
      "  R2: 0.8298\n",
      "  MAPE: 10.5932\n",
      "\n",
      "Модель: KNeighbors\n",
      "  MAE: 49064.2746\n",
      "  RMSE: 70405.8286\n",
      "  R2: 0.2023\n",
      "  MAPE: 29.5892\n",
      "\n",
      "Модель: Gradient Boosting\n",
      "  MAE: 16406.9981\n",
      "  RMSE: 28841.4726\n",
      "  R2: 0.8527\n",
      "  MAPE: 9.5712\n"
     ]
    }
   ],
   "source": [
    "from sklearn.ensemble import RandomForestRegressor, GradientBoostingRegressor\n",
    "from sklearn.svm import LinearSVR\n",
    "from sklearn.neural_network import MLPRegressor\n",
    "from sklearn.model_selection import cross_val_score, KFold\n",
    "from sklearn.metrics import make_scorer, mean_absolute_error, root_mean_squared_error, r2_score\n",
    "import numpy as np\n",
    "\n",
    "# Определяем функцию для расчёта MAPE\n",
    "def mean_absolute_percentage_error(y_true, y_pred):\n",
    "    return np.mean(np.abs((y_true - y_pred) / y_true)) * 100\n",
    "\n",
    "X_train_np = X_train.to_numpy()\n",
    "y_train_np = y_train.to_numpy()\n",
    "\n",
    "# Определяем метрики\n",
    "scoring = {\n",
    "    \"MAE\": make_scorer(mean_absolute_error, greater_is_better=False),\n",
    "    \"RMSE\": make_scorer(lambda y, y_pred: root_mean_squared_error(y, y_pred), greater_is_better=False),\n",
    "    \"R2\": make_scorer(r2_score),\n",
    "    \"MAPE\": make_scorer(mean_absolute_percentage_error, greater_is_better=False)\n",
    "}\n",
    "\n",
    "# Кросс-валидация\n",
    "kf = KFold(n_splits=5, shuffle=True, random_state=81)\n",
    "models = {\n",
    "\n",
    "    \"Ridge\": Ridge(alpha=1.0, max_iter=2000),\n",
    "    \"Decision Tree\": DecisionTreeRegressor(random_state=81),\n",
    "    \"Random Forest\": RandomForestRegressor(random_state=81),\n",
    "    \"XGBoost\": xgb.XGBRegressor(),\n",
    "    \"KNeighbors\": KNeighborsRegressor(n_neighbors=5),\n",
    "    \"Gradient Boosting\": GradientBoostingRegressor(random_state=81)\n",
    "}\n",
    "\n",
    "results = {}\n",
    "for name, model in models.items():\n",
    "    # Если модель — XGBoost, передаём массивы NumPy\n",
    "    if isinstance(model, xgb.XGBRegressor):\n",
    "        scores = {\n",
    "            metric: cross_val_score(model, X_train_np, y_train_np, cv=kf, scoring=scorer).mean()\n",
    "            for metric, scorer in scoring.items()\n",
    "        }\n",
    "    else:\n",
    "        scores = {\n",
    "            metric: cross_val_score(model, X_train, y_train, cv=kf, scoring=scorer).mean()\n",
    "            for metric, scorer in scoring.items()\n",
    "        }\n",
    "    results[name] = scores\n",
    "\n",
    "# Вывод результатов\n",
    "print(\"Результаты кросс-валидации:\")\n",
    "for model, scores in results.items():\n",
    "    print(f\"\\nМодель: {model}\")\n",
    "    for metric, score in scores.items():\n",
    "        # Для MAPE и других отрицательных метрик меняем знак на положительный для удобства интерпретации\n",
    "        score_to_display = -score if metric in {\"MAE\", \"RMSE\", \"MAPE\"} else score\n",
    "        print(f\"  {metric}: {score_to_display:.4f}\")\n"
   ]
  },
  {
   "cell_type": "markdown",
   "id": "1713ab96-c335-445f-8783-4c0afbb5a690",
   "metadata": {},
   "source": [
    "**Вывод:**\n",
    "* Случайный лес и Градиентный бустинг дают лучшие оценки, значит продолжаем работу с ними."
   ]
  },
  {
   "cell_type": "markdown",
   "id": "42150531-30a3-4076-9dec-3957ffc72041",
   "metadata": {
    "jp-MarkdownHeadingCollapsed": true
   },
   "source": [
    "## Важность признаков:"
   ]
  },
  {
   "cell_type": "markdown",
   "id": "92ba0fb6-2dab-4858-9be6-bfe6e148d851",
   "metadata": {},
   "source": [
    "Для сокращения размерности набора данных(у нас только \"на старте\" было 80 признаков) можем проанализировать важность признаков для модели.\n",
    "\n",
    "**Выполним сначала на основе модели Случайного леса:**"
   ]
  },
  {
   "cell_type": "code",
   "execution_count": 46,
   "id": "42a4a2b7-8f70-49d6-b105-a41b9d27e215",
   "metadata": {},
   "outputs": [
    {
     "data": {
      "text/html": [
       "<div>\n",
       "<style scoped>\n",
       "    .dataframe tbody tr th:only-of-type {\n",
       "        vertical-align: middle;\n",
       "    }\n",
       "\n",
       "    .dataframe tbody tr th {\n",
       "        vertical-align: top;\n",
       "    }\n",
       "\n",
       "    .dataframe thead th {\n",
       "        text-align: right;\n",
       "    }\n",
       "</style>\n",
       "<table border=\"1\" class=\"dataframe\">\n",
       "  <thead>\n",
       "    <tr style=\"text-align: right;\">\n",
       "      <th></th>\n",
       "      <th>Feature</th>\n",
       "      <th>Importance</th>\n",
       "    </tr>\n",
       "  </thead>\n",
       "  <tbody>\n",
       "    <tr>\n",
       "      <th>4</th>\n",
       "      <td>OverallQual</td>\n",
       "      <td>0.5731</td>\n",
       "    </tr>\n",
       "    <tr>\n",
       "      <th>25</th>\n",
       "      <td>GrLivArea</td>\n",
       "      <td>0.1134</td>\n",
       "    </tr>\n",
       "    <tr>\n",
       "      <th>19</th>\n",
       "      <td>TotalBsmtSF</td>\n",
       "      <td>0.0544</td>\n",
       "    </tr>\n",
       "    <tr>\n",
       "      <th>38</th>\n",
       "      <td>GarageArea</td>\n",
       "      <td>0.0254</td>\n",
       "    </tr>\n",
       "    <tr>\n",
       "      <th>15</th>\n",
       "      <td>BsmtFinSF1</td>\n",
       "      <td>0.0228</td>\n",
       "    </tr>\n",
       "    <tr>\n",
       "      <th>...</th>\n",
       "      <td>...</td>\n",
       "      <td>...</td>\n",
       "    </tr>\n",
       "    <tr>\n",
       "      <th>148</th>\n",
       "      <td>Exterior1st_CBlock</td>\n",
       "      <td>0.0000</td>\n",
       "    </tr>\n",
       "    <tr>\n",
       "      <th>139</th>\n",
       "      <td>RoofMatl_Metal</td>\n",
       "      <td>0.0000</td>\n",
       "    </tr>\n",
       "    <tr>\n",
       "      <th>136</th>\n",
       "      <td>RoofMatl_ClyTile</td>\n",
       "      <td>0.0000</td>\n",
       "    </tr>\n",
       "    <tr>\n",
       "      <th>190</th>\n",
       "      <td>Electrical_Mix</td>\n",
       "      <td>0.0000</td>\n",
       "    </tr>\n",
       "    <tr>\n",
       "      <th>168</th>\n",
       "      <td>Exterior2nd_Other</td>\n",
       "      <td>0.0000</td>\n",
       "    </tr>\n",
       "  </tbody>\n",
       "</table>\n",
       "<p>228 rows × 2 columns</p>\n",
       "</div>"
      ],
      "text/plain": [
       "                Feature  Importance\n",
       "4           OverallQual      0.5731\n",
       "25            GrLivArea      0.1134\n",
       "19          TotalBsmtSF      0.0544\n",
       "38           GarageArea      0.0254\n",
       "15           BsmtFinSF1      0.0228\n",
       "..                  ...         ...\n",
       "148  Exterior1st_CBlock      0.0000\n",
       "139      RoofMatl_Metal      0.0000\n",
       "136    RoofMatl_ClyTile      0.0000\n",
       "190      Electrical_Mix      0.0000\n",
       "168   Exterior2nd_Other      0.0000\n",
       "\n",
       "[228 rows x 2 columns]"
      ]
     },
     "execution_count": 46,
     "metadata": {},
     "output_type": "execute_result"
    }
   ],
   "source": [
    "# Получение важности признаков\n",
    "feature_importances = rf_model.feature_importances_\n",
    "\n",
    "# Создание фрейма для отображения важности признаков\n",
    "importance_df = pd.DataFrame({\n",
    "    'Feature': X_train.columns,  # Имя признаков\n",
    "    'Importance': feature_importances # процент важности\n",
    "}).sort_values(by='Importance', ascending=False)\n",
    "\n",
    "importance_df"
   ]
  },
  {
   "cell_type": "markdown",
   "id": "3be01d6a-8121-4d87-ab28-13ac754d3275",
   "metadata": {},
   "source": [
    "**Выставив порог важности для признаков, отберём только самые важные для модели признаки:**"
   ]
  },
  {
   "cell_type": "code",
   "execution_count": 47,
   "id": "403cadb5-1bb3-4b95-bd74-ddf69abc95c8",
   "metadata": {},
   "outputs": [
    {
     "name": "stdout",
     "output_type": "stream",
     "text": [
      "         Feature  Importance\n",
      "4    OverallQual      0.5731\n",
      "25     GrLivArea      0.1134\n",
      "19   TotalBsmtSF      0.0544\n",
      "38    GarageArea      0.0254\n",
      "15    BsmtFinSF1      0.0228\n",
      "37    GarageCars      0.0221\n",
      "22      1stFlrSF      0.0196\n",
      "23      2ndFlrSF      0.0139\n",
      "3        LotArea      0.0134\n",
      "41    WoodDeckSF      0.0093\n",
      "6      YearBuilt      0.0087\n",
      "2    LotFrontage      0.0071\n",
      "18     BsmtUnfSF      0.0069\n",
      "7   YearRemodAdd      0.0069\n",
      "34    Fireplaces      0.0068\n",
      "33  TotRmsAbvGrd      0.0063\n",
      "11      BsmtQual      0.0055\n",
      "42   OpenPorchSF      0.0055\n",
      "Количество: 18\n"
     ]
    }
   ],
   "source": [
    "# Оставлям только те строки, где Importance >= 0.005\n",
    "importance_df = importance_df[importance_df['Importance'] >= 0.005]\n",
    "\n",
    "# Выводим отфильтрованные признаки\n",
    "print(importance_df)\n",
    "print(f'Количество: {len(importance_df)}')"
   ]
  },
  {
   "cell_type": "markdown",
   "id": "36faf8d3-a7d5-4e19-adad-3c69049739d3",
   "metadata": {},
   "source": [
    "**Отобразим отобранные признаки на графике:**"
   ]
  },
  {
   "cell_type": "code",
   "execution_count": 48,
   "id": "37022687-405b-4fc6-a5ad-bd26b0186761",
   "metadata": {},
   "outputs": [
    {
     "data": {
      "image/png": "[encoded data removed]",
      "text/plain": [
       "<Figure size 640x480 with 1 Axes>"
      ]
     },
     "metadata": {},
     "output_type": "display_data"
    }
   ],
   "source": [
    "plt.barh(importance_df['Feature'], importance_df['Importance'])\n",
    "plt.xlabel('Importance')\n",
    "plt.title('Feature Importance')\n",
    "plt.show()"
   ]
  },
  {
   "cell_type": "markdown",
   "id": "4ab007d7-7d98-4f8d-9fc9-98b6f89d0564",
   "metadata": {},
   "source": [
    "**Отфильтруем тренеровочные наборы данных для последующего переобучения модели с скоращённым количеством признаков:**"
   ]
  },
  {
   "cell_type": "code",
   "execution_count": 49,
   "id": "6d303032-38f2-4aef-af08-ac4260a69081",
   "metadata": {},
   "outputs": [],
   "source": [
    "# Выберем только 15 признаков\n",
    "selected_features = importance_df.head(15)['Feature'].tolist()\n",
    "\n",
    "# Отфильтровать train_X и test_X по выбранным признакам\n",
    "X_train_selected = X_train.drop(columns=[col for col in X_test.columns if col not in selected_features])\n",
    "X_test_selected = X_test.drop(columns=[col for col in X_test.columns if col not in selected_features])"
   ]
  },
  {
   "cell_type": "markdown",
   "id": "3ba2e45e-fba9-4b7f-9f4c-e94f92d747ee",
   "metadata": {},
   "source": [
    "**Переобучим модель на сокращённых данных:**"
   ]
  },
  {
   "cell_type": "code",
   "execution_count": 50,
   "id": "08107c22-2dfa-4425-8e3a-29bdd4a448c2",
   "metadata": {},
   "outputs": [],
   "source": [
    "rf_model.fit(X_train_selected, y_train)\n",
    "y_pred_rf = rf_model.predict(X_test_selected)"
   ]
  },
  {
   "cell_type": "markdown",
   "id": "2ca361d5-f772-4489-86fc-d0324c89b9c3",
   "metadata": {},
   "source": [
    "**Рассчитаем метрики ошибок модели:**"
   ]
  },
  {
   "cell_type": "code",
   "execution_count": 51,
   "id": "c53c42b5-84cf-4094-92de-cec79c9ada6a",
   "metadata": {},
   "outputs": [
    {
     "data": {
      "text/html": [
       "<div>\n",
       "<style scoped>\n",
       "    .dataframe tbody tr th:only-of-type {\n",
       "        vertical-align: middle;\n",
       "    }\n",
       "\n",
       "    .dataframe tbody tr th {\n",
       "        vertical-align: top;\n",
       "    }\n",
       "\n",
       "    .dataframe thead th {\n",
       "        text-align: right;\n",
       "    }\n",
       "</style>\n",
       "<table border=\"1\" class=\"dataframe\">\n",
       "  <thead>\n",
       "    <tr style=\"text-align: right;\">\n",
       "      <th>Model/Metric</th>\n",
       "      <th>MSE</th>\n",
       "      <th>RMSE</th>\n",
       "      <th>R²</th>\n",
       "      <th>Mean Error</th>\n",
       "      <th>MAPE (%)</th>\n",
       "    </tr>\n",
       "  </thead>\n",
       "  <tbody>\n",
       "    <tr>\n",
       "      <th>Random Forest</th>\n",
       "      <td>934385691.6607</td>\n",
       "      <td>30567.7230</td>\n",
       "      <td>0.8539</td>\n",
       "      <td>-87.2647</td>\n",
       "      <td>11.1129</td>\n",
       "    </tr>\n",
       "  </tbody>\n",
       "</table>\n",
       "</div>"
      ],
      "text/plain": [
       "Model/Metric             MSE       RMSE     R²  Mean Error  MAPE (%)\n",
       "Random Forest 934385691.6607 30567.7230 0.8539    -87.2647   11.1129"
      ]
     },
     "execution_count": 51,
     "metadata": {},
     "output_type": "execute_result"
    }
   ],
   "source": [
    "mse_rf = mean_squared_error(y_test, y_pred_rf)\n",
    "rmse_rf = np.sqrt(mse_rf)\n",
    "r2_rf = r2_score(y_test, y_pred_rf)\n",
    "mean_error_rf = np.mean(y_test - y_pred_rf)\n",
    "mape_rf = np.mean(np.abs((y_test - y_pred_rf) / y_test)) * 100\n",
    "\n",
    "metrics_df = pd.DataFrame({\n",
    "    \"Model/Metric\": [\"MSE\", \"RMSE\", \"R²\", \"Mean Error\", \"MAPE (%)\"],\n",
    "    \"Random Forest\": [mse_rf, rmse_rf, r2_rf, mean_error_rf, mape_rf],\n",
    "})\n",
    "metrics_df.set_index('Model/Metric', inplace=True)\n",
    "pd.set_option('display.float_format', lambda x: '%0.4f' % x)\n",
    "metrics_df.transpose()"
   ]
  },
  {
   "cell_type": "markdown",
   "id": "6de5c5cd-33f9-46b8-acfc-7381fd730cae",
   "metadata": {},
   "source": [
    "**Вывод:**\n",
    "* Оценки почти не изменились, значит можно скоращать количество необходимых для предсказывания признаков."
   ]
  },
  {
   "cell_type": "markdown",
   "id": "6d191b97-d7c0-4661-bf2c-03118aacb7e6",
   "metadata": {},
   "source": [
    "<details>\n",
    "<summary>Код к кросс-валидации</summary>\n",
    "\n",
    "```python\n",
    "# Функция для расчёта MAPE\n",
    "def mean_absolute_percentage_error(y_true, y_pred):\n",
    "    return np.mean(np.abs((y_true - y_pred) / y_true)) * 100\n",
    "\n",
    "# Метрики\n",
    "scoring = {\n",
    "    \"MAE\": make_scorer(mean_absolute_error, greater_is_better=False),\n",
    "    \"RMSE\": make_scorer(lambda y, y_pred: root_mean_squared_error(y, y_pred), greater_is_better=False),\n",
    "    \"R2\": make_scorer(r2_score),\n",
    "    \"MAPE\": make_scorer(mean_absolute_percentage_error, greater_is_better=False)\n",
    "}\n",
    "\n",
    "# Кросс-валидация\n",
    "kf = KFold(n_splits=5, shuffle=True, random_state=81)\n",
    "models = {\n",
    "\n",
    "    \"Random Forest\": RandomForestRegressor(random_state=81),\n",
    "}\n",
    "\n",
    "results = {}\n",
    "for name, model in models.items():\n",
    "    scores = {\n",
    "        metric: cross_val_score(model, X_train_selected, y_train, cv=kf, scoring=scorer).mean()\n",
    "        for metric, scorer in scoring.items()\n",
    "        }\n",
    "    results[name] = scores\n",
    "\n",
    "# Результаты\n",
    "print(\"Результаты кросс-валидации:\")\n",
    "for model, scores in results.items():\n",
    "    print(f\"\\nМодель: {model}\")\n",
    "    for metric, score in scores.items():\n",
    "        score_to_display = -score if metric in {\"MAE\", \"RMSE\", \"MAPE\"} else score\n",
    "        print(f\"  {metric}: {score_to_display:.4f}\")\n",
    "```\n",
    "\n",
    "</details>"
   ]
  },
  {
   "cell_type": "markdown",
   "id": "c45226c4-cb56-40d3-83c8-d1f3b8118cc8",
   "metadata": {
    "jp-MarkdownHeadingCollapsed": true
   },
   "source": [
    "## Гиперпараметры:"
   ]
  },
  {
   "cell_type": "markdown",
   "id": "baa2e1f1-d596-4c33-8e6f-08ed1b113b2d",
   "metadata": {},
   "source": [
    "**Для получения лучшего результата предсказания, с помощью кросс-валидации переберём гиперпараметры выбранной модели и применим их:**"
   ]
  },
  {
   "cell_type": "code",
   "execution_count": 52,
   "id": "30f71900-dec5-4f39-ba12-e2e33a22c058",
   "metadata": {},
   "outputs": [
    {
     "name": "stdout",
     "output_type": "stream",
     "text": [
      "Fitting 5 folds for each of 288 candidates, totalling 1440 fits\n"
     ]
    },
    {
     "name": "stderr",
     "output_type": "stream",
     "text": [
      "C:\\Users\\QSquirrel\\PycharmProjects\\regression\\.venv\\Lib\\site-packages\\numpy\\ma\\core.py:2881: RuntimeWarning: invalid value encountered in cast\n",
      "  _data = np.array(data, dtype=dtype, copy=copy,\n"
     ]
    },
    {
     "name": "stdout",
     "output_type": "stream",
     "text": [
      "Best Hyperparameters:  {'bootstrap': True, 'max_depth': None, 'min_samples_leaf': 2, 'min_samples_split': 5, 'n_estimators': 300}\n",
      "\n",
      "MSE: 991029601.9193687 \n",
      "RMSE: 31480.62264186286 \n",
      "R2: 0.8450653072453848 \n",
      "Mean Error: 692.6513149032022 \n",
      "MAPE: 10.63206304189088\n"
     ]
    }
   ],
   "source": [
    "from sklearn.model_selection import GridSearchCV\n",
    "\n",
    "# Определение гиперпараметров\n",
    "param_grid = {\n",
    "    'n_estimators': [100, 200, 300, 500],\n",
    "    'max_depth': [5, 10, 20, None],\n",
    "    'min_samples_split': [2, 5, 10],\n",
    "    'min_samples_leaf': [1, 2, 4],\n",
    "    'bootstrap': [True, False]\n",
    "}\n",
    "\n",
    "# Настройка GridSearchCV\n",
    "grid_search = GridSearchCV(estimator=rf_model, param_grid=param_grid, cv=5, n_jobs=-1, verbose=2, scoring='neg_mean_squared_error')\n",
    "\n",
    "# Запуск поиска\n",
    "grid_search.fit(X_train, y_train)\n",
    "\n",
    "# Получаем лучшие параметры\n",
    "best_params = grid_search.best_params_\n",
    "print(\"Best Hyperparameters: \", best_params)\n",
    "\n",
    "# Оценка модели с лучшими параметрами\n",
    "best_rf_model = grid_search.best_estimator_\n",
    "y_pred = best_rf_model.predict(X_test)\n",
    "\n",
    "# Оценка производительности\n",
    "from sklearn.metrics import mean_squared_error\n",
    "mse = mean_squared_error(y_test, y_pred)\n",
    "rmse = np.sqrt(mse)\n",
    "r2 = r2_score(y_test, y_pred)\n",
    "mean_error = np.mean(y_test - y_pred)\n",
    "mape = np.mean(np.abs((y_test - y_pred) / y_test)) * 100\n",
    "print(\n",
    "    f\"\\nMSE: {mse}\",\n",
    "    f\"\\nRMSE: {rmse}\",\n",
    "    f\"\\nR2: {r2}\",\n",
    "    f\"\\nMean Error: {mean_error}\",\n",
    "    f\"\\nMAPE: {mape}\"\n",
    ")"
   ]
  },
  {
   "cell_type": "markdown",
   "id": "64ca3aa1-4069-451e-ad28-7e062130b42a",
   "metadata": {
    "jp-MarkdownHeadingCollapsed": true
   },
   "source": [
    "## Интерпретация результатов:"
   ]
  },
  {
   "cell_type": "markdown",
   "id": "70df88f8-1227-4024-be61-852e1115300a",
   "metadata": {},
   "source": [
    "**Построим график, который покажет различие между предсказанными значениями и истинными:**"
   ]
  },
  {
   "cell_type": "code",
   "execution_count": 53,
   "id": "0c89a593-3a49-4f9b-99ad-28b8774d2a18",
   "metadata": {},
   "outputs": [
    {
     "data": {
      "image/png": "[encoded data removed]",
      "text/plain": [
       "<Figure size 640x480 with 1 Axes>"
      ]
     },
     "metadata": {},
     "output_type": "display_data"
    }
   ],
   "source": [
    "plt.scatter(y_test, y_pred, alpha=0.7)\n",
    "plt.plot([y_test.min(), y_test.max()], [y_test.min(), y_test.max()], '--r', linewidth=2)\n",
    "plt.title(\"Истинные значения vs. Предсказания\")\n",
    "plt.xlabel(\"Истинные значения\")\n",
    "plt.ylabel(\"Предсказания\")\n",
    "plt.show()"
   ]
  },
  {
   "cell_type": "markdown",
   "id": "9a2cea81-1a3f-4aaf-8672-800f1252efcd",
   "metadata": {
    "jp-MarkdownHeadingCollapsed": true
   },
   "source": [
    "# Предсказание для тестового набора данных:"
   ]
  },
  {
   "cell_type": "markdown",
   "id": "843be39b-8e2e-468b-a5e0-1f4f9f051754",
   "metadata": {},
   "source": [
    "**Главная задача - привести данные в новом наборе к таким же распределениям как и в обученном**"
   ]
  },
  {
   "cell_type": "markdown",
   "id": "84e19e99-41c5-4e50-af17-008087357b40",
   "metadata": {},
   "source": [
    "**Загрузка данных:**"
   ]
  },
  {
   "cell_type": "code",
   "execution_count": 54,
   "id": "6092a0cc-bdc8-4bda-8647-c4141ad6f9f7",
   "metadata": {},
   "outputs": [
    {
     "data": {
      "text/html": [
       "<div>\n",
       "<style scoped>\n",
       "    .dataframe tbody tr th:only-of-type {\n",
       "        vertical-align: middle;\n",
       "    }\n",
       "\n",
       "    .dataframe tbody tr th {\n",
       "        vertical-align: top;\n",
       "    }\n",
       "\n",
       "    .dataframe thead th {\n",
       "        text-align: right;\n",
       "    }\n",
       "</style>\n",
       "<table border=\"1\" class=\"dataframe\">\n",
       "  <thead>\n",
       "    <tr style=\"text-align: right;\">\n",
       "      <th></th>\n",
       "      <th>Id</th>\n",
       "      <th>MSSubClass</th>\n",
       "      <th>MSZoning</th>\n",
       "      <th>LotFrontage</th>\n",
       "      <th>LotArea</th>\n",
       "      <th>Street</th>\n",
       "      <th>Alley</th>\n",
       "      <th>LotShape</th>\n",
       "      <th>LandContour</th>\n",
       "      <th>Utilities</th>\n",
       "      <th>...</th>\n",
       "      <th>ScreenPorch</th>\n",
       "      <th>PoolArea</th>\n",
       "      <th>PoolQC</th>\n",
       "      <th>Fence</th>\n",
       "      <th>MiscFeature</th>\n",
       "      <th>MiscVal</th>\n",
       "      <th>MoSold</th>\n",
       "      <th>YrSold</th>\n",
       "      <th>SaleType</th>\n",
       "      <th>SaleCondition</th>\n",
       "    </tr>\n",
       "  </thead>\n",
       "  <tbody>\n",
       "    <tr>\n",
       "      <th>0</th>\n",
       "      <td>1461</td>\n",
       "      <td>20</td>\n",
       "      <td>RH</td>\n",
       "      <td>80.0000</td>\n",
       "      <td>11622</td>\n",
       "      <td>Pave</td>\n",
       "      <td>NaN</td>\n",
       "      <td>Reg</td>\n",
       "      <td>Lvl</td>\n",
       "      <td>AllPub</td>\n",
       "      <td>...</td>\n",
       "      <td>120</td>\n",
       "      <td>0</td>\n",
       "      <td>NaN</td>\n",
       "      <td>MnPrv</td>\n",
       "      <td>NaN</td>\n",
       "      <td>0</td>\n",
       "      <td>6</td>\n",
       "      <td>2010</td>\n",
       "      <td>WD</td>\n",
       "      <td>Normal</td>\n",
       "    </tr>\n",
       "    <tr>\n",
       "      <th>1</th>\n",
       "      <td>1462</td>\n",
       "      <td>20</td>\n",
       "      <td>RL</td>\n",
       "      <td>81.0000</td>\n",
       "      <td>14267</td>\n",
       "      <td>Pave</td>\n",
       "      <td>NaN</td>\n",
       "      <td>IR1</td>\n",
       "      <td>Lvl</td>\n",
       "      <td>AllPub</td>\n",
       "      <td>...</td>\n",
       "      <td>0</td>\n",
       "      <td>0</td>\n",
       "      <td>NaN</td>\n",
       "      <td>NaN</td>\n",
       "      <td>Gar2</td>\n",
       "      <td>12500</td>\n",
       "      <td>6</td>\n",
       "      <td>2010</td>\n",
       "      <td>WD</td>\n",
       "      <td>Normal</td>\n",
       "    </tr>\n",
       "    <tr>\n",
       "      <th>2</th>\n",
       "      <td>1463</td>\n",
       "      <td>60</td>\n",
       "      <td>RL</td>\n",
       "      <td>74.0000</td>\n",
       "      <td>13830</td>\n",
       "      <td>Pave</td>\n",
       "      <td>NaN</td>\n",
       "      <td>IR1</td>\n",
       "      <td>Lvl</td>\n",
       "      <td>AllPub</td>\n",
       "      <td>...</td>\n",
       "      <td>0</td>\n",
       "      <td>0</td>\n",
       "      <td>NaN</td>\n",
       "      <td>MnPrv</td>\n",
       "      <td>NaN</td>\n",
       "      <td>0</td>\n",
       "      <td>3</td>\n",
       "      <td>2010</td>\n",
       "      <td>WD</td>\n",
       "      <td>Normal</td>\n",
       "    </tr>\n",
       "    <tr>\n",
       "      <th>3</th>\n",
       "      <td>1464</td>\n",
       "      <td>60</td>\n",
       "      <td>RL</td>\n",
       "      <td>78.0000</td>\n",
       "      <td>9978</td>\n",
       "      <td>Pave</td>\n",
       "      <td>NaN</td>\n",
       "      <td>IR1</td>\n",
       "      <td>Lvl</td>\n",
       "      <td>AllPub</td>\n",
       "      <td>...</td>\n",
       "      <td>0</td>\n",
       "      <td>0</td>\n",
       "      <td>NaN</td>\n",
       "      <td>NaN</td>\n",
       "      <td>NaN</td>\n",
       "      <td>0</td>\n",
       "      <td>6</td>\n",
       "      <td>2010</td>\n",
       "      <td>WD</td>\n",
       "      <td>Normal</td>\n",
       "    </tr>\n",
       "    <tr>\n",
       "      <th>4</th>\n",
       "      <td>1465</td>\n",
       "      <td>120</td>\n",
       "      <td>RL</td>\n",
       "      <td>43.0000</td>\n",
       "      <td>5005</td>\n",
       "      <td>Pave</td>\n",
       "      <td>NaN</td>\n",
       "      <td>IR1</td>\n",
       "      <td>HLS</td>\n",
       "      <td>AllPub</td>\n",
       "      <td>...</td>\n",
       "      <td>144</td>\n",
       "      <td>0</td>\n",
       "      <td>NaN</td>\n",
       "      <td>NaN</td>\n",
       "      <td>NaN</td>\n",
       "      <td>0</td>\n",
       "      <td>1</td>\n",
       "      <td>2010</td>\n",
       "      <td>WD</td>\n",
       "      <td>Normal</td>\n",
       "    </tr>\n",
       "    <tr>\n",
       "      <th>...</th>\n",
       "      <td>...</td>\n",
       "      <td>...</td>\n",
       "      <td>...</td>\n",
       "      <td>...</td>\n",
       "      <td>...</td>\n",
       "      <td>...</td>\n",
       "      <td>...</td>\n",
       "      <td>...</td>\n",
       "      <td>...</td>\n",
       "      <td>...</td>\n",
       "      <td>...</td>\n",
       "      <td>...</td>\n",
       "      <td>...</td>\n",
       "      <td>...</td>\n",
       "      <td>...</td>\n",
       "      <td>...</td>\n",
       "      <td>...</td>\n",
       "      <td>...</td>\n",
       "      <td>...</td>\n",
       "      <td>...</td>\n",
       "      <td>...</td>\n",
       "    </tr>\n",
       "    <tr>\n",
       "      <th>1454</th>\n",
       "      <td>2915</td>\n",
       "      <td>160</td>\n",
       "      <td>RM</td>\n",
       "      <td>21.0000</td>\n",
       "      <td>1936</td>\n",
       "      <td>Pave</td>\n",
       "      <td>NaN</td>\n",
       "      <td>Reg</td>\n",
       "      <td>Lvl</td>\n",
       "      <td>AllPub</td>\n",
       "      <td>...</td>\n",
       "      <td>0</td>\n",
       "      <td>0</td>\n",
       "      <td>NaN</td>\n",
       "      <td>NaN</td>\n",
       "      <td>NaN</td>\n",
       "      <td>0</td>\n",
       "      <td>6</td>\n",
       "      <td>2006</td>\n",
       "      <td>WD</td>\n",
       "      <td>Normal</td>\n",
       "    </tr>\n",
       "    <tr>\n",
       "      <th>1455</th>\n",
       "      <td>2916</td>\n",
       "      <td>160</td>\n",
       "      <td>RM</td>\n",
       "      <td>21.0000</td>\n",
       "      <td>1894</td>\n",
       "      <td>Pave</td>\n",
       "      <td>NaN</td>\n",
       "      <td>Reg</td>\n",
       "      <td>Lvl</td>\n",
       "      <td>AllPub</td>\n",
       "      <td>...</td>\n",
       "      <td>0</td>\n",
       "      <td>0</td>\n",
       "      <td>NaN</td>\n",
       "      <td>NaN</td>\n",
       "      <td>NaN</td>\n",
       "      <td>0</td>\n",
       "      <td>4</td>\n",
       "      <td>2006</td>\n",
       "      <td>WD</td>\n",
       "      <td>Abnorml</td>\n",
       "    </tr>\n",
       "    <tr>\n",
       "      <th>1456</th>\n",
       "      <td>2917</td>\n",
       "      <td>20</td>\n",
       "      <td>RL</td>\n",
       "      <td>160.0000</td>\n",
       "      <td>20000</td>\n",
       "      <td>Pave</td>\n",
       "      <td>NaN</td>\n",
       "      <td>Reg</td>\n",
       "      <td>Lvl</td>\n",
       "      <td>AllPub</td>\n",
       "      <td>...</td>\n",
       "      <td>0</td>\n",
       "      <td>0</td>\n",
       "      <td>NaN</td>\n",
       "      <td>NaN</td>\n",
       "      <td>NaN</td>\n",
       "      <td>0</td>\n",
       "      <td>9</td>\n",
       "      <td>2006</td>\n",
       "      <td>WD</td>\n",
       "      <td>Abnorml</td>\n",
       "    </tr>\n",
       "    <tr>\n",
       "      <th>1457</th>\n",
       "      <td>2918</td>\n",
       "      <td>85</td>\n",
       "      <td>RL</td>\n",
       "      <td>62.0000</td>\n",
       "      <td>10441</td>\n",
       "      <td>Pave</td>\n",
       "      <td>NaN</td>\n",
       "      <td>Reg</td>\n",
       "      <td>Lvl</td>\n",
       "      <td>AllPub</td>\n",
       "      <td>...</td>\n",
       "      <td>0</td>\n",
       "      <td>0</td>\n",
       "      <td>NaN</td>\n",
       "      <td>MnPrv</td>\n",
       "      <td>Shed</td>\n",
       "      <td>700</td>\n",
       "      <td>7</td>\n",
       "      <td>2006</td>\n",
       "      <td>WD</td>\n",
       "      <td>Normal</td>\n",
       "    </tr>\n",
       "    <tr>\n",
       "      <th>1458</th>\n",
       "      <td>2919</td>\n",
       "      <td>60</td>\n",
       "      <td>RL</td>\n",
       "      <td>74.0000</td>\n",
       "      <td>9627</td>\n",
       "      <td>Pave</td>\n",
       "      <td>NaN</td>\n",
       "      <td>Reg</td>\n",
       "      <td>Lvl</td>\n",
       "      <td>AllPub</td>\n",
       "      <td>...</td>\n",
       "      <td>0</td>\n",
       "      <td>0</td>\n",
       "      <td>NaN</td>\n",
       "      <td>NaN</td>\n",
       "      <td>NaN</td>\n",
       "      <td>0</td>\n",
       "      <td>11</td>\n",
       "      <td>2006</td>\n",
       "      <td>WD</td>\n",
       "      <td>Normal</td>\n",
       "    </tr>\n",
       "  </tbody>\n",
       "</table>\n",
       "<p>1459 rows × 80 columns</p>\n",
       "</div>"
      ],
      "text/plain": [
       "        Id  MSSubClass MSZoning  LotFrontage  LotArea Street Alley LotShape  \\\n",
       "0     1461          20       RH      80.0000    11622   Pave   NaN      Reg   \n",
       "1     1462          20       RL      81.0000    14267   Pave   NaN      IR1   \n",
       "2     1463          60       RL      74.0000    13830   Pave   NaN      IR1   \n",
       "3     1464          60       RL      78.0000     9978   Pave   NaN      IR1   \n",
       "4     1465         120       RL      43.0000     5005   Pave   NaN      IR1   \n",
       "...    ...         ...      ...          ...      ...    ...   ...      ...   \n",
       "1454  2915         160       RM      21.0000     1936   Pave   NaN      Reg   \n",
       "1455  2916         160       RM      21.0000     1894   Pave   NaN      Reg   \n",
       "1456  2917          20       RL     160.0000    20000   Pave   NaN      Reg   \n",
       "1457  2918          85       RL      62.0000    10441   Pave   NaN      Reg   \n",
       "1458  2919          60       RL      74.0000     9627   Pave   NaN      Reg   \n",
       "\n",
       "     LandContour Utilities  ... ScreenPorch PoolArea PoolQC  Fence  \\\n",
       "0            Lvl    AllPub  ...         120        0    NaN  MnPrv   \n",
       "1            Lvl    AllPub  ...           0        0    NaN    NaN   \n",
       "2            Lvl    AllPub  ...           0        0    NaN  MnPrv   \n",
       "3            Lvl    AllPub  ...           0        0    NaN    NaN   \n",
       "4            HLS    AllPub  ...         144        0    NaN    NaN   \n",
       "...          ...       ...  ...         ...      ...    ...    ...   \n",
       "1454         Lvl    AllPub  ...           0        0    NaN    NaN   \n",
       "1455         Lvl    AllPub  ...           0        0    NaN    NaN   \n",
       "1456         Lvl    AllPub  ...           0        0    NaN    NaN   \n",
       "1457         Lvl    AllPub  ...           0        0    NaN  MnPrv   \n",
       "1458         Lvl    AllPub  ...           0        0    NaN    NaN   \n",
       "\n",
       "     MiscFeature MiscVal MoSold  YrSold  SaleType  SaleCondition  \n",
       "0            NaN       0      6    2010        WD         Normal  \n",
       "1           Gar2   12500      6    2010        WD         Normal  \n",
       "2            NaN       0      3    2010        WD         Normal  \n",
       "3            NaN       0      6    2010        WD         Normal  \n",
       "4            NaN       0      1    2010        WD         Normal  \n",
       "...          ...     ...    ...     ...       ...            ...  \n",
       "1454         NaN       0      6    2006        WD         Normal  \n",
       "1455         NaN       0      4    2006        WD        Abnorml  \n",
       "1456         NaN       0      9    2006        WD        Abnorml  \n",
       "1457        Shed     700      7    2006        WD         Normal  \n",
       "1458         NaN       0     11    2006        WD         Normal  \n",
       "\n",
       "[1459 rows x 80 columns]"
      ]
     },
     "execution_count": 54,
     "metadata": {},
     "output_type": "execute_result"
    }
   ],
   "source": [
    "test_df = pd.read_csv('../datasets/test.csv')\n",
    "test_df"
   ]
  },
  {
   "cell_type": "markdown",
   "id": "132425e6-7005-4283-8081-fc8a1f342fa7",
   "metadata": {},
   "source": [
    "**Определяем признаки с пропущенными значениями:**"
   ]
  },
  {
   "cell_type": "code",
   "execution_count": 55,
   "id": "d88053af-029b-44a4-9593-a5ebd42a921c",
   "metadata": {},
   "outputs": [
    {
     "name": "stdout",
     "output_type": "stream",
     "text": [
      "Index(['MSZoning', 'LotFrontage', 'Alley', 'Utilities', 'Exterior1st',\n",
      "       'Exterior2nd', 'MasVnrType', 'MasVnrArea', 'BsmtQual', 'BsmtCond',\n",
      "       'BsmtExposure', 'BsmtFinType1', 'BsmtFinSF1', 'BsmtFinType2',\n",
      "       'BsmtFinSF2', 'BsmtUnfSF', 'TotalBsmtSF', 'BsmtFullBath',\n",
      "       'BsmtHalfBath', 'KitchenQual', 'Functional', 'FireplaceQu',\n",
      "       'GarageType', 'GarageYrBlt', 'GarageFinish', 'GarageCars', 'GarageArea',\n",
      "       'GarageQual', 'GarageCond', 'PoolQC', 'Fence', 'MiscFeature',\n",
      "       'SaleType'],\n",
      "      dtype='object')\n",
      "33\n"
     ]
    }
   ],
   "source": [
    "missing_cols = test_df.isnull().sum()[test_df.isnull().sum() > 0].index\n",
    "print(f'{missing_cols}\\n{len(missing_cols)}')"
   ]
  },
  {
   "cell_type": "markdown",
   "id": "79ae4a8a-a61e-4bd3-9a72-d98cae3dec2d",
   "metadata": {},
   "source": [
    "**Признаки с пропущенными значениями в данном наборе отличаются(они будут отличаться и для других), но следуя нашей задаче, мы удаляем только те, которые были удалены из обучающего набора:**"
   ]
  },
  {
   "cell_type": "code",
   "execution_count": 56,
   "id": "d65b0111-7e3c-4918-8ace-04d0889d8082",
   "metadata": {},
   "outputs": [
    {
     "name": "stdout",
     "output_type": "stream",
     "text": [
      "Столбцы для удаления: ['Alley', 'MasVnrType', 'PoolQC', 'Fence', 'MiscFeature']\n"
     ]
    }
   ],
   "source": [
    "print(f\"Столбцы для удаления: {list(cols_to_drop)}\")\n",
    "\n",
    "test_df.drop(columns=cols_to_drop, inplace=True, axis=1)"
   ]
  },
  {
   "cell_type": "markdown",
   "id": "cb841677-6944-4cf7-8bd7-d41ab7abfe2a",
   "metadata": {},
   "source": [
    "**Обновим список признаков с пропущенными значениями:**"
   ]
  },
  {
   "cell_type": "code",
   "execution_count": 57,
   "id": "635a2b51-291b-4026-a2fc-5fa49113f426",
   "metadata": {},
   "outputs": [],
   "source": [
    "missing_cols = list(set(missing_cols) - set(cols_to_drop))"
   ]
  },
  {
   "cell_type": "markdown",
   "id": "164f4ce3-275e-48f0-a746-f8c84e272664",
   "metadata": {},
   "source": [
    "**Разделим признаки на группы:**\n",
    "<br>*Снова пользуясь описанием датасета(data_description.txt)*"
   ]
  },
  {
   "cell_type": "code",
   "execution_count": 58,
   "id": "04378a23-24fd-42df-97cf-2c67fcb7f343",
   "metadata": {},
   "outputs": [],
   "source": [
    "num_cols = ['MasVnrArea', 'BsmtFinSF1', 'BsmtFinSF2', 'TotalBsmtSF', 'BsmtUnfSF', 'LotFrontage', 'GarageArea']\n",
    "num_cat_cols = ['BsmtFullBath', 'BsmtHalfBath', 'GarageCars', 'GarageYrBlt']\n",
    "\n",
    "bsmt_cat_cols = ['BsmtExposure', 'BsmtQual', 'BsmtFinType1', 'BsmtFinType2', 'BsmtCond']\n",
    "garage_cat_cols = ['GarageType', 'GarageCond', 'GarageQual', 'GarageFinish']\n",
    "mode_cat_cols = ['MSZoning', 'Utilities', 'Exterior1st', 'Exterior2nd', 'KitchenQual', 'SaleType', 'Functional', 'FireplaceQu']"
   ]
  },
  {
   "cell_type": "markdown",
   "id": "5535a916-fd07-4641-a3d0-e4e14eca592c",
   "metadata": {},
   "source": [
    "**Точно таким же способом как и до этого отберём числовые признаки с выбросами:**"
   ]
  },
  {
   "cell_type": "code",
   "execution_count": 59,
   "id": "05ea2047-add5-46c2-ab66-1ea2599830d6",
   "metadata": {},
   "outputs": [
    {
     "name": "stdout",
     "output_type": "stream",
     "text": [
      "\n",
      "Столбцы с выбросами (доля выбросов > 5%):\n",
      "['MasVnrArea', 'BsmtFinSF2', 'LotFrontage']\n",
      "\\Нормально распределённые столбцы (доля выбросов < 5%):\n",
      "['BsmtFinSF1', 'TotalBsmtSF', 'BsmtUnfSF', 'GarageArea']\n"
     ]
    }
   ],
   "source": [
    "# Список для столбцов с выбросами\n",
    "num_cols_outliers = []\n",
    "num_cols_no_outliers = []\n",
    "\n",
    "for column in num_cols:\n",
    "    data = test_df[column].dropna()  # Удаляем пропущенные значения\n",
    "\n",
    "    # Вычисление квартилей и IQR\n",
    "    Q1 = data.quantile(0.25)\n",
    "    Q3 = data.quantile(0.75)\n",
    "    IQR = Q3 - Q1\n",
    "\n",
    "    # Границы для определения выбросов\n",
    "    lower_bound = Q1 - 1.5 * IQR\n",
    "    upper_bound = Q3 + 1.5 * IQR\n",
    "\n",
    "    # Фильтрация выбросов\n",
    "    outliers = data[(data < lower_bound) | (data > upper_bound)]\n",
    "\n",
    "    # Доля выбросов\n",
    "    outliers_pct = len(outliers) / len(data) * 100\n",
    "\n",
    "#    print(f\"\\nСтолбец: {column}\")\n",
    "#    print(f\"Выбросы: \\n{outliers}\")\n",
    "#    print(f\"Доля выбросов: {outliers_pct:.2f}%\")\n",
    "\n",
    "    # Если доля выбросов > 5%, добавляем столбец в список\n",
    "    if outliers_pct > 5:\n",
    "        num_cols_outliers.append(column)\n",
    "    else:\n",
    "        num_cols_no_outliers.append(column)\n",
    "\n",
    "# Выводим список с выбросами и без\n",
    "print(f'\\nСтолбцы с выбросами (доля выбросов > 5%):\\n{num_cols_outliers}')\n",
    "print(f'\\Нормально распределённые столбцы (доля выбросов < 5%):\\n{num_cols_no_outliers}')"
   ]
  },
  {
   "cell_type": "markdown",
   "id": "09d6914c-8bcb-4962-aa50-f36ea59818aa",
   "metadata": {},
   "source": [
    "**Заполнение пропущенных значений:**"
   ]
  },
  {
   "cell_type": "code",
   "execution_count": 60,
   "id": "b642c8b0-5714-4db1-80d8-0a889c301652",
   "metadata": {},
   "outputs": [],
   "source": [
    "for column in test_df.columns:\n",
    "    if column in num_cols_outliers:\n",
    "        test_df[column] = test_df[column].fillna(test_df[column].median())\n",
    "    elif column in num_cols_no_outliers:\n",
    "        test_df[column] = test_df[column].fillna(test_df[column].mean())\n",
    "    elif column in num_cat_cols:\n",
    "        test_df[column] = test_df[column].fillna(test_df[column].mode()[0])\n",
    "    elif column in mode_cat_cols:\n",
    "        test_df[column] = test_df[column].fillna(test_df[column].mode()[0])\n",
    "    elif column in bsmt_cat_cols:\n",
    "        test_df[column] = test_df[column].fillna('NoBsmt')\n",
    "    elif column in garage_cat_cols:\n",
    "        test_df[column] = test_df[column].fillna('NoGrg')"
   ]
  },
  {
   "cell_type": "markdown",
   "id": "854e8e08-e3bc-42e8-abbd-5e71d1903853",
   "metadata": {},
   "source": [
    "**Убеждаемся, что всё заполнили:**"
   ]
  },
  {
   "cell_type": "code",
   "execution_count": 61,
   "id": "abdc5aa2-8967-4084-b704-35f7b5d191d2",
   "metadata": {},
   "outputs": [
    {
     "data": {
      "text/plain": [
       "Series([], dtype: int64)"
      ]
     },
     "execution_count": 61,
     "metadata": {},
     "output_type": "execute_result"
    }
   ],
   "source": [
    "test_df.isnull().sum()[test_df.isnull().sum() > 0]"
   ]
  },
  {
   "cell_type": "markdown",
   "id": "340d39ac-3fd1-413f-8664-fe30db81c5b8",
   "metadata": {},
   "source": [
    "**Создаём списки признаков для разных типов данных:**"
   ]
  },
  {
   "cell_type": "code",
   "execution_count": 62,
   "id": "25389038-9e27-4941-bc66-af7b008568fb",
   "metadata": {},
   "outputs": [
    {
     "name": "stdout",
     "output_type": "stream",
     "text": [
      "Числовые признаки: \n",
      "['MSSubClass', 'LotFrontage', 'LotArea', 'OverallQual', 'OverallCond', 'YearBuilt', 'YearRemodAdd', 'MasVnrArea', 'BsmtFinSF1', 'BsmtFinSF2', 'BsmtUnfSF', 'TotalBsmtSF', '1stFlrSF', '2ndFlrSF', 'LowQualFinSF', 'GrLivArea', 'BsmtFullBath', 'BsmtHalfBath', 'FullBath', 'HalfBath', 'BedroomAbvGr', 'KitchenAbvGr', 'TotRmsAbvGrd', 'Fireplaces', 'GarageYrBlt', 'GarageCars', 'GarageArea', 'WoodDeckSF', 'OpenPorchSF', 'EnclosedPorch', '3SsnPorch', 'ScreenPorch', 'PoolArea', 'MiscVal', 'MoSold', 'YrSold']\n",
      "Количество признаков: 36\n",
      "\n",
      "Категориальные признаки: \n",
      "['MSZoning', 'Street', 'LotShape', 'LandContour', 'Utilities', 'LotConfig', 'LandSlope', 'Neighborhood', 'Condition1', 'Condition2', 'BldgType', 'HouseStyle', 'RoofStyle', 'RoofMatl', 'Exterior1st', 'Exterior2nd', 'ExterQual', 'ExterCond', 'Foundation', 'BsmtQual', 'BsmtCond', 'BsmtExposure', 'BsmtFinType1', 'BsmtFinType2', 'Heating', 'HeatingQC', 'Electrical', 'KitchenQual', 'Functional', 'FireplaceQu', 'GarageType', 'GarageFinish', 'GarageQual', 'GarageCond', 'PavedDrive', 'SaleType', 'SaleCondition']\n",
      "Количество признаков: 37\n",
      "\n",
      "Двоичные признаки: \n",
      "['CentralAir']\n",
      "Количество признаков: 1\n",
      "\n",
      "Удалённые признаки: \n",
      "Index(['Alley', 'MasVnrType', 'PoolQC', 'Fence', 'MiscFeature'], dtype='object')\n",
      "Количество признаков: 5\n"
     ]
    }
   ],
   "source": [
    "num_cols = test_df.select_dtypes(exclude=['object']).columns.tolist()\n",
    "num_cols.remove('Id')\n",
    "bool_cols = ['CentralAir']\n",
    "cat_cols = test_df.select_dtypes(include=['object']).columns.tolist()\n",
    "cat_cols = [col for col in cat_cols if col not in bool_cols] # remove\n",
    "\n",
    "\n",
    "#num_cols = list(set(num_cols))\n",
    "print(f'Числовые признаки: \\n{num_cols}\\nКоличество признаков: {len(num_cols)}')\n",
    "print(f'\\nКатегориальные признаки: \\n{cat_cols}\\nКоличество признаков: {len(cat_cols)}')\n",
    "print(f'\\nДвоичные признаки: \\n{bool_cols}\\nКоличество признаков: {len(bool_cols)}')\n",
    "print(f'\\nУдалённые признаки: \\n{cols_to_drop}\\nКоличество признаков: {len(cols_to_drop)}')"
   ]
  },
  {
   "cell_type": "markdown",
   "id": "38d7ecd1-d638-474b-a30a-94a3f19e9b0f",
   "metadata": {},
   "source": [
    "**Явно определяем типы данных:**"
   ]
  },
  {
   "cell_type": "code",
   "execution_count": 63,
   "id": "54c84316-7560-462c-bb56-185db385ce3a",
   "metadata": {},
   "outputs": [],
   "source": [
    "df[cat_cols] = df[cat_cols].astype('category')\n",
    "df['CentralAir'] = [1 if ca=='Y' else 0 for ca in df['CentralAir']]"
   ]
  },
  {
   "cell_type": "markdown",
   "id": "49a5b00b-065b-44f0-915e-9dbb7a837e08",
   "metadata": {},
   "source": [
    "**Преобразуем категории в числовой вид:**"
   ]
  },
  {
   "cell_type": "code",
   "execution_count": 64,
   "id": "8093fe47-97e6-46c8-b7f2-411f50c029b5",
   "metadata": {
    "scrolled": true
   },
   "outputs": [],
   "source": [
    "# Преобразуем ранжированные категории в наборе\n",
    "for col in rank_cats:\n",
    "    test_df[col] = label_encoders[col].transform(test_df[col])  # Используем сохраненные LabelEncoder\n",
    "\n",
    "# Преобразуем остальные столбцы в наборе\n",
    "test_df = pd.get_dummies(test_df, columns=default_cats, dtype=int)"
   ]
  },
  {
   "cell_type": "markdown",
   "id": "8a477b51-caaa-44d3-83f0-e7d2682cdc65",
   "metadata": {},
   "source": [
    "**Оставляем только \"важные\" признаки:**"
   ]
  },
  {
   "cell_type": "code",
   "execution_count": 65,
   "id": "c0e346e0-6a83-4bc8-981c-58ccae1c2203",
   "metadata": {},
   "outputs": [],
   "source": [
    "test_df = test_df.drop(columns=[col for col in test_df.columns if col not in selected_features])"
   ]
  },
  {
   "cell_type": "markdown",
   "id": "91d59ac2-b852-4d06-8e5e-fa95eae4a71e",
   "metadata": {},
   "source": [
    "**Предсказываем исход на новых данных, используя готовую модель:**"
   ]
  },
  {
   "cell_type": "code",
   "execution_count": 66,
   "id": "144243dd-a7bf-439b-a13f-0f6fa3f220fa",
   "metadata": {},
   "outputs": [],
   "source": [
    "predictions = rf_model.predict(test_df)"
   ]
  },
  {
   "cell_type": "markdown",
   "id": "1038f345-db2e-4064-b325-e9f4358ab2ed",
   "metadata": {},
   "source": [
    "**Сохраняем результаты предсказаний в файл:**"
   ]
  },
  {
   "cell_type": "code",
   "execution_count": 67,
   "id": "7016de96-925e-4b47-beff-fb2a7b43a64e",
   "metadata": {},
   "outputs": [
    {
     "name": "stdout",
     "output_type": "stream",
     "text": [
      "Предсказания сохранены в файл predictions.csv\n"
     ]
    }
   ],
   "source": [
    "output = pd.DataFrame({'Id': test_df.index, 'Predictions': predictions})\n",
    "output.to_csv(\"predictions.csv\", index=False)\n",
    "\n",
    "print(\"Предсказания сохранены в файл predictions.csv\")"
   ]
  }
 ],
 "metadata": {
  "kernelspec": {
   "display_name": "Python 3 (ipykernel)",
   "language": "python",
   "name": "python3"
  },
  "language_info": {
   "codemirror_mode": {
    "name": "ipython",
    "version": 3
   },
   "file_extension": ".py",
   "mimetype": "text/x-python",
   "name": "python",
   "nbconvert_exporter": "python",
   "pygments_lexer": "ipython3",
   "version": "3.13.0"
  }
 },
 "nbformat": 4,
 "nbformat_minor": 5
}
